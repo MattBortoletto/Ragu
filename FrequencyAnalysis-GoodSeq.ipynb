{
 "cells": [
  {
   "cell_type": "code",
   "execution_count": 1,
   "metadata": {},
   "outputs": [
    {
     "name": "stdout",
     "output_type": "stream",
     "text": [
      "476\n"
     ]
    }
   ],
   "source": [
    "import numpy as np\n",
    "from random import choice\n",
    "\n",
    "def weightedchoice(items): \n",
    "    return choice(\"\".join(x * y for x, y in items))\n",
    "\n",
    "DNA_intr = \"\"\n",
    "DNA_depl = \"\"\n",
    "\n",
    "for i in range(500001):\n",
    "    DNA_intr += weightedchoice([(\"C\", 1), (\"G\", 1), (\"A\", 1), (\"T\", 1)])\n",
    "    DNA_depl += weightedchoice([(\"C\", 1), (\"G\", 1), (\"A\", 1), (\"T\", 1)])\n",
    "    \n",
    "counter = 0\n",
    "for n in range(len(DNA_intr)):\n",
    "    if DNA_intr[n:n+5] == \"CCGCG\":\n",
    "        counter += 1\n",
    "\n",
    "print(counter)\n",
    "\n",
    "\n",
    "words = [\"CCGCG\", \"CGCGC\", \"GCGCC\", \"CGGCG\", \"CGGCC\"]\n",
    "\n",
    "#print(DNA_intr)"
   ]
  },
  {
   "cell_type": "code",
   "execution_count": 2,
   "metadata": {},
   "outputs": [],
   "source": [
    "DNA_intr = DNA_intr.replace(\"CCGCG\", weightedchoice([(\"C\", 1), (\"G\", 1), (\"A\", 1), (\"T\", 1)]))\n",
    "DNA_intr = DNA_intr.replace(\"CGCGC\", weightedchoice([(\"C\", 1), (\"G\", 1), (\"A\", 1), (\"T\", 1)]))\n",
    "DNA_intr = DNA_intr.replace(\"GCGCC\", weightedchoice([(\"C\", 1), (\"G\", 1), (\"A\", 1), (\"T\", 1)]))\n",
    "DNA_intr = DNA_intr.replace(\"CGGCG\", weightedchoice([(\"C\", 1), (\"G\", 1), (\"A\", 1), (\"T\", 1)]))\n",
    "DNA_intr = DNA_intr.replace(\"CGGCC\", weightedchoice([(\"C\", 1), (\"G\", 1), (\"A\", 1), (\"T\", 1)]))"
   ]
  },
  {
   "cell_type": "code",
   "execution_count": 3,
   "metadata": {},
   "outputs": [
    {
     "name": "stdout",
     "output_type": "stream",
     "text": [
      "1\n",
      "0\n",
      "0\n",
      "5\n",
      "0\n"
     ]
    }
   ],
   "source": [
    "counter = 0\n",
    "for n in range(len(DNA_intr)):\n",
    "    if DNA_intr[n:n+5] == \"CCGCG\":\n",
    "        counter += 1\n",
    "\n",
    "print(counter)\n",
    "\n",
    "counter = 0\n",
    "for n in range(len(DNA_intr)):\n",
    "    if DNA_intr[n:n+5] == \"CGCGC\":\n",
    "        counter += 1\n",
    "\n",
    "print(counter)\n",
    "\n",
    "counter = 0\n",
    "for n in range(len(DNA_intr)):\n",
    "    if DNA_intr[n:n+5] == \"GCGCC\":\n",
    "        counter += 1\n",
    "\n",
    "print(counter)\n",
    "\n",
    "counter = 0\n",
    "for n in range(len(DNA_intr)):\n",
    "    if DNA_intr[n:n+5] == \"CGGCG\":\n",
    "        counter += 1\n",
    "\n",
    "print(counter)\n",
    "\n",
    "counter = 0\n",
    "for n in range(len(DNA_intr)):\n",
    "    if DNA_intr[n:n+5] == \"CGGCC\":\n",
    "        counter += 1\n",
    "\n",
    "print(counter)"
   ]
  },
  {
   "cell_type": "code",
   "execution_count": 4,
   "metadata": {},
   "outputs": [
    {
     "name": "stdout",
     "output_type": "stream",
     "text": [
      "51\n"
     ]
    }
   ],
   "source": [
    "freq_sort_intr = 0.0005196965286657252\n",
    "tot_changes = freq_sort_intr*len(DNA_intr)\n",
    "print(int(tot_changes/5))\n",
    "\n",
    "pos = np.random.randint(0, len(DNA_intr), int(len(DNA_intr)*freq_sort_intr/5))"
   ]
  },
  {
   "cell_type": "code",
   "execution_count": 5,
   "metadata": {},
   "outputs": [],
   "source": [
    "def insert_str(string, str_to_insert, index):\n",
    "    return string[:index] + str_to_insert + string[index:]\n",
    "\n",
    "d = [None]*51\n",
    "i = 0\n",
    "for p in pos:\n",
    "    impw = np.random.choice([\"CCGCG\", \"CGCGC\", \"GCGCC\", \"CGGCG\", \"CGGCC\"], \n",
    "                                        p=[0.10554704, 0.11982444, 0.31040135, 0.10084078, 0.36338639])\n",
    "    #print(impw)\n",
    "    d[i] = insert_str(DNA_intr, impw, p)\n",
    "    i = i + 1"
   ]
  },
  {
   "cell_type": "code",
   "execution_count": 6,
   "metadata": {},
   "outputs": [],
   "source": [
    "dna = \"\"\n",
    "\n",
    "for i in range(51):\n",
    "    dna += d[i]"
   ]
  },
  {
   "cell_type": "code",
   "execution_count": 9,
   "metadata": {},
   "outputs": [
    {
     "name": "stdout",
     "output_type": "stream",
     "text": [
      "1\n"
     ]
    }
   ],
   "source": [
    "counter = 0\n",
    "for n in range(len(DNA_intr)):\n",
    "    if dna[n:n+5] == \"CGGCC\":\n",
    "        counter += 1\n",
    "\n",
    "print(counter)"
   ]
  },
  {
   "cell_type": "code",
   "execution_count": 8,
   "metadata": {},
   "outputs": [],
   "source": [
    "#print(d)"
   ]
  },
  {
   "cell_type": "code",
   "execution_count": null,
   "metadata": {},
   "outputs": [],
   "source": []
  }
 ],
 "metadata": {
  "kernelspec": {
   "display_name": "Python 3",
   "language": "python",
   "name": "python3"
  },
  "language_info": {
   "codemirror_mode": {
    "name": "ipython",
    "version": 3
   },
   "file_extension": ".py",
   "mimetype": "text/x-python",
   "name": "python",
   "nbconvert_exporter": "python",
   "pygments_lexer": "ipython3",
   "version": "3.7.6"
  }
 },
 "nbformat": 4,
 "nbformat_minor": 4
}
