{
 "cells": [
  {
   "cell_type": "markdown",
   "metadata": {},
   "source": [
    "# Find hg19 genes\n",
    "\n",
    "Matteo Bortoletto, Clelia Corridori, Filippo Costa, Edoardo Spadetto\n",
    "\n",
    "Group: Ragù"
   ]
  },
  {
   "cell_type": "code",
   "execution_count": 1,
   "metadata": {},
   "outputs": [
    {
     "name": "stdout",
     "output_type": "stream",
     "text": [
      "\n",
      "chr10\t100007448\t100027951\tLOXL4\n",
      "chr10\t100143325\t100174939\tPYROXD2\n",
      "chr10\t100154975\t100155064\tMIR1287\n",
      "chr10\t100175955\t100206692\tHPS1\n",
      "chr10\t100175955\t100206720\tHPS1\n",
      "chr10\t100188903\t100206720\tHPS1\n",
      "chr10\t100191049\t100191117\tMIR4685\n",
      "chr10\t100206078\t100213562\tLOC101927278\n",
      "chr10\t100216834\t100995609\tHPSE2\n",
      "chr10\t100216834\t100995632\tHPSE2\n",
      "\n",
      "46562 gene_coords.txt\n"
     ]
    }
   ],
   "source": [
    "%%bash\n",
    "awk -v OFS='\\t' '{if($3==\"transcript\") print $1,$4,$5,$10}' hg19.refGene.gtf | \\\n",
    "tr -d '\\\"' | sed 's/\\;//g' | sort | uniq > gene_coords.txt\n",
    "echo\n",
    "head gene_coords.txt\n",
    "echo\n",
    "wc -l gene_coords.txt"
   ]
  },
  {
   "cell_type": "code",
   "execution_count": 2,
   "metadata": {},
   "outputs": [
    {
     "name": "stdout",
     "output_type": "stream",
     "text": [
      "28265\n"
     ]
    }
   ],
   "source": [
    "%%bash\n",
    "cut -f4 gene_coords.txt | sort | uniq | wc -l"
   ]
  },
  {
   "cell_type": "code",
   "execution_count": 4,
   "metadata": {},
   "outputs": [
    {
     "name": "stdout",
     "output_type": "stream",
     "text": [
      "22977\n"
     ]
    }
   ],
   "source": [
    "%%bash\n",
    "cut -f4 gene_coords.txt | sort | uniq | grep -v \"LOC\" | grep -v \"MIR\" | grep -v \"LINC\" | wc -l"
   ]
  },
  {
   "cell_type": "code",
   "execution_count": 6,
   "metadata": {},
   "outputs": [
    {
     "data": {
      "text/plain": [
       "(46562, 4)"
      ]
     },
     "execution_count": 6,
     "metadata": {},
     "output_type": "execute_result"
    }
   ],
   "source": [
    "import pandas as pd\n",
    "\n",
    "gene_coords = pd.read_csv('gene_coords.txt', header=None, sep=\"\\t\")\n",
    "gene_coords.sort_values(by = [0, 1, 2], inplace = True)\n",
    "gene_coords.to_csv('gene_coords.txt', index = False, header = False, sep = '\\t')\n",
    "gene_coords.head()\n",
    "\n",
    "gene_coords.shape"
   ]
  },
  {
   "cell_type": "code",
   "execution_count": 8,
   "metadata": {},
   "outputs": [],
   "source": [
    "import os\n",
    "import subprocess\n",
    "\n",
    "with open('hg19_gene_regions.fa', 'a') as fp:\n",
    "    for i in range(gene_coords.shape[0]):\n",
    "        coord = str(str(gene_coords.iloc[i, 0]) + ':' \n",
    "                    + str(gene_coords.iloc[i, 1]) + '-' + str(gene_coords.iloc[i, 2]))\n",
    "        subprocess.run(['samtools', 'faidx', 'hg19.fa.bgz', str(coord)], stdout = fp)"
   ]
  },
  {
   "cell_type": "code",
   "execution_count": 10,
   "metadata": {},
   "outputs": [
    {
     "data": {
      "text/html": [
       "<div>\n",
       "<style scoped>\n",
       "    .dataframe tbody tr th:only-of-type {\n",
       "        vertical-align: middle;\n",
       "    }\n",
       "\n",
       "    .dataframe tbody tr th {\n",
       "        vertical-align: top;\n",
       "    }\n",
       "\n",
       "    .dataframe thead th {\n",
       "        text-align: right;\n",
       "    }\n",
       "</style>\n",
       "<table border=\"1\" class=\"dataframe\">\n",
       "  <thead>\n",
       "    <tr style=\"text-align: right;\">\n",
       "      <th></th>\n",
       "      <th>0</th>\n",
       "      <th>1</th>\n",
       "    </tr>\n",
       "  </thead>\n",
       "  <tbody>\n",
       "    <tr>\n",
       "      <th>0</th>\n",
       "      <td>chr1</td>\n",
       "      <td>249250621</td>\n",
       "    </tr>\n",
       "    <tr>\n",
       "      <th>1</th>\n",
       "      <td>chr2</td>\n",
       "      <td>243199373</td>\n",
       "    </tr>\n",
       "    <tr>\n",
       "      <th>2</th>\n",
       "      <td>chr3</td>\n",
       "      <td>198022430</td>\n",
       "    </tr>\n",
       "    <tr>\n",
       "      <th>3</th>\n",
       "      <td>chr4</td>\n",
       "      <td>191154276</td>\n",
       "    </tr>\n",
       "    <tr>\n",
       "      <th>4</th>\n",
       "      <td>chr5</td>\n",
       "      <td>180915260</td>\n",
       "    </tr>\n",
       "  </tbody>\n",
       "</table>\n",
       "</div>"
      ],
      "text/plain": [
       "      0          1\n",
       "0  chr1  249250621\n",
       "1  chr2  243199373\n",
       "2  chr3  198022430\n",
       "3  chr4  191154276\n",
       "4  chr5  180915260"
      ]
     },
     "execution_count": 10,
     "metadata": {},
     "output_type": "execute_result"
    }
   ],
   "source": [
    "chr_sizes = pd.read_csv(\"hg19.fa.bgz.fai\", header = None, sep = \"\\t\")\n",
    "chr_sizes = chr_sizes.drop([2, 3, 4], axis = 1)\n",
    "\n",
    "chr_sizes.head()"
   ]
  },
  {
   "cell_type": "code",
   "execution_count": 11,
   "metadata": {},
   "outputs": [
    {
     "name": "stdout",
     "output_type": "stream",
     "text": [
      "Finished 10000 genes\n",
      "Finished 20000 genes\n",
      "Finished 30000 genes\n",
      "Finished 40000 genes\n"
     ]
    },
    {
     "data": {
      "text/html": [
       "<div>\n",
       "<style scoped>\n",
       "    .dataframe tbody tr th:only-of-type {\n",
       "        vertical-align: middle;\n",
       "    }\n",
       "\n",
       "    .dataframe tbody tr th {\n",
       "        vertical-align: top;\n",
       "    }\n",
       "\n",
       "    .dataframe thead th {\n",
       "        text-align: right;\n",
       "    }\n",
       "</style>\n",
       "<table border=\"1\" class=\"dataframe\">\n",
       "  <thead>\n",
       "    <tr style=\"text-align: right;\">\n",
       "      <th></th>\n",
       "      <th>0</th>\n",
       "      <th>1</th>\n",
       "      <th>2</th>\n",
       "    </tr>\n",
       "  </thead>\n",
       "  <tbody>\n",
       "    <tr>\n",
       "      <th>0</th>\n",
       "      <td>chr1</td>\n",
       "      <td>18787054</td>\n",
       "      <td>18789547</td>\n",
       "    </tr>\n",
       "    <tr>\n",
       "      <th>1</th>\n",
       "      <td>chr1</td>\n",
       "      <td>112858070</td>\n",
       "      <td>112860605</td>\n",
       "    </tr>\n",
       "    <tr>\n",
       "      <th>2</th>\n",
       "      <td>chr1</td>\n",
       "      <td>96545273</td>\n",
       "      <td>96560281</td>\n",
       "    </tr>\n",
       "    <tr>\n",
       "      <th>3</th>\n",
       "      <td>chr1</td>\n",
       "      <td>222592548</td>\n",
       "      <td>222592615</td>\n",
       "    </tr>\n",
       "    <tr>\n",
       "      <th>4</th>\n",
       "      <td>chr1</td>\n",
       "      <td>37204445</td>\n",
       "      <td>37204512</td>\n",
       "    </tr>\n",
       "  </tbody>\n",
       "</table>\n",
       "</div>"
      ],
      "text/plain": [
       "      0          1          2\n",
       "0  chr1   18787054   18789547\n",
       "1  chr1  112858070  112860605\n",
       "2  chr1   96545273   96560281\n",
       "3  chr1  222592548  222592615\n",
       "4  chr1   37204445   37204512"
      ]
     },
     "execution_count": 11,
     "metadata": {},
     "output_type": "execute_result"
    }
   ],
   "source": [
    "import numpy as np\n",
    "chr_list = []\n",
    "start_list = []\n",
    "end_list = []\n",
    "gene_lengths = list(gene_coords.iloc[:, 2] - gene_coords.iloc[:, 1])\n",
    "a = 0\n",
    "for i in range(gene_coords.shape[0]):\n",
    "    chr_df = gene_coords[gene_coords[0].isin([gene_coords.iloc[i,0]])]\n",
    "    overlap = True\n",
    "    while overlap == True:\n",
    "        reg_start = np.random.randint(1, int(chr_sizes[chr_sizes[0] == gene_coords.iloc[i,0]].iloc[:,1]))\n",
    "        reg_end = reg_start + gene_lengths[i]\n",
    "        for j in range(chr_df.shape[0]):\n",
    "            b1 = chr_df.iloc[j,1]\n",
    "            b2 = chr_df.iloc[j,2]\n",
    "            if (reg_start > b1 and reg_start < b2) or (reg_end > b1 and reg_end < b2) or \\\n",
    "            (b1 > reg_start and b1 < reg_end) or (b2 > reg_start and b2 < reg_end):\n",
    "                overlap = True\n",
    "                break\n",
    "            else:\n",
    "                overlap = False\n",
    "    chr_list.append(gene_coords.iloc[i,0])\n",
    "    start_list.append(reg_start)\n",
    "    end_list.append(reg_end)\n",
    "    a = a + 1\n",
    "    if a%10000 == 0:\n",
    "            print('Finished ' + str(a) + ' genes')\n",
    "notgene_coords = pd.DataFrame({'0': chr_list, '1': start_list, '2': end_list})\n",
    "notgene_coords.to_csv(\"notgene_coords.txt\", index = False, header = False, sep = \"\\t\")\n",
    "notgene_coords.head()"
   ]
  },
  {
   "cell_type": "code",
   "execution_count": 12,
   "metadata": {},
   "outputs": [
    {
     "name": "stdout",
     "output_type": "stream",
     "text": [
      "0\r\n"
     ]
    }
   ],
   "source": [
    "!bedtools intersect -a gene_coords.txt -b notgene_coords.txt | wc -l"
   ]
  },
  {
   "cell_type": "code",
   "execution_count": 13,
   "metadata": {},
   "outputs": [],
   "source": [
    "import os\n",
    "import subprocess\n",
    "with open('hg19_notgene_regions.fa', 'a') as fp:\n",
    "    for i in range(notgene_coords.shape[0]):\n",
    "        coord = str(str(notgene_coords.iloc[i, 0]) + ':' \n",
    "                    + str(notgene_coords.iloc[i, 1]) + '-' + str(notgene_coords.iloc[i, 2]))\n",
    "        subprocess.run(['samtools', 'faidx', 'hg19.fa.bgz', str(coord)], stdout = fp)"
   ]
  },
  {
   "cell_type": "code",
   "execution_count": 14,
   "metadata": {},
   "outputs": [
    {
     "name": "stdout",
     "output_type": "stream",
     "text": [
      "141245\r\n"
     ]
    }
   ],
   "source": [
    "!grep -c N hg19_gene_regions.fa"
   ]
  },
  {
   "cell_type": "code",
   "execution_count": 15,
   "metadata": {},
   "outputs": [
    {
     "name": "stdout",
     "output_type": "stream",
     "text": [
      "10810396\r\n"
     ]
    }
   ],
   "source": [
    "!grep -c N hg19_notgene_regions.fa"
   ]
  },
  {
   "cell_type": "code",
   "execution_count": 16,
   "metadata": {},
   "outputs": [
    {
     "name": "stdout",
     "output_type": "stream",
     "text": [
      "Finished 10000 entries\n",
      "Finished 20000 entries\n",
      "Finished 30000 entries\n",
      "Finished 40000 entries\n",
      "We have processed 46562 entries and written 38284 entries to two fasta-files\n"
     ]
    }
   ],
   "source": [
    "from Bio import SeqIO\n",
    "\n",
    "gene_file = 'hg19_gene_regions.fa'\n",
    "notgene_file = 'hg19_notgene_regions.fa'\n",
    "a = 0\n",
    "i = 0\n",
    "with open('hg19_gene_clean.fa', 'a') as gene_out, open('hg19_notgene_clean.fa', 'a') as notgene_out:\n",
    "    for gene, notgene in zip(SeqIO.parse(gene_file, 'fasta'), SeqIO.parse(notgene_file, 'fasta')):\n",
    "        upper_gene = gene.seq.upper()\n",
    "        upper_notgene = notgene.seq.upper()\n",
    "        a = a + 1\n",
    "        if a%10000 == 0:\n",
    "            print('Finished ' + str(a) + ' entries')\n",
    "        if 'N' not in str(upper_gene) and 'N' not in str(upper_notgene):\n",
    "            gene.seq = upper_gene\n",
    "            SeqIO.write(gene, gene_out, 'fasta')\n",
    "            notgene.seq = upper_notgene\n",
    "            SeqIO.write(notgene, notgene_out, 'fasta')\n",
    "            i = i + 1\n",
    "        else:\n",
    "            continue\n",
    "print('We have processed ' + str(a) + ' entries and written ' + str(i) + ' entries to two fasta-files')"
   ]
  },
  {
   "cell_type": "code",
   "execution_count": 17,
   "metadata": {},
   "outputs": [
    {
     "name": "stdout",
     "output_type": "stream",
     "text": [
      "0\r\n"
     ]
    }
   ],
   "source": [
    "!grep -c N hg19_gene_clean.fa"
   ]
  },
  {
   "cell_type": "code",
   "execution_count": 18,
   "metadata": {},
   "outputs": [
    {
     "name": "stdout",
     "output_type": "stream",
     "text": [
      "0\r\n"
     ]
    }
   ],
   "source": [
    "!grep -c N hg19_notgene_clean.fa"
   ]
  }
 ],
 "metadata": {
  "kernelspec": {
   "display_name": "Python 3",
   "language": "python",
   "name": "python3"
  },
  "language_info": {
   "codemirror_mode": {
    "name": "ipython",
    "version": 3
   },
   "file_extension": ".py",
   "mimetype": "text/x-python",
   "name": "python",
   "nbconvert_exporter": "python",
   "pygments_lexer": "ipython3",
   "version": "3.7.6"
  }
 },
 "nbformat": 4,
 "nbformat_minor": 4
}
