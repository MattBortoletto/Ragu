{
 "cells": [
  {
   "cell_type": "markdown",
   "metadata": {},
   "source": [
    "# Neanderthal\n",
    "\n",
    "## Intro"
   ]
  },
  {
   "cell_type": "code",
   "execution_count": 14,
   "metadata": {},
   "outputs": [
    {
     "data": {
      "text/plain": [
       "[PhysicalDevice(name='/physical_device:GPU:0', device_type='GPU')]"
      ]
     },
     "execution_count": 14,
     "metadata": {},
     "output_type": "execute_result"
    }
   ],
   "source": [
    "import tensorflow as tf\n",
    "tf.config.list_physical_devices('GPU')"
   ]
  },
  {
   "cell_type": "code",
   "execution_count": 16,
   "metadata": {},
   "outputs": [
    {
     "name": "stdout",
     "output_type": "stream",
     "text": [
      "[name: \"/device:CPU:0\"\n",
      "device_type: \"CPU\"\n",
      "memory_limit: 268435456\n",
      "locality {\n",
      "}\n",
      "incarnation: 17893558344972185676\n",
      ", name: \"/device:XLA_CPU:0\"\n",
      "device_type: \"XLA_CPU\"\n",
      "memory_limit: 17179869184\n",
      "locality {\n",
      "}\n",
      "incarnation: 4937758677198781114\n",
      "physical_device_desc: \"device: XLA_CPU device\"\n",
      ", name: \"/device:GPU:0\"\n",
      "device_type: \"GPU\"\n",
      "memory_limit: 14942083482\n",
      "locality {\n",
      "  bus_id: 1\n",
      "  links {\n",
      "  }\n",
      "}\n",
      "incarnation: 8463211992439103638\n",
      "physical_device_desc: \"device: 0, name: Tesla T4, pci bus id: 0000:00:05.0, compute capability: 7.5\"\n",
      ", name: \"/device:XLA_GPU:0\"\n",
      "device_type: \"XLA_GPU\"\n",
      "memory_limit: 17179869184\n",
      "locality {\n",
      "}\n",
      "incarnation: 7321614016520833328\n",
      "physical_device_desc: \"device: XLA_GPU device\"\n",
      "]\n"
     ]
    }
   ],
   "source": [
    "from tensorflow.python.client import device_lib\n",
    "print(device_lib.list_local_devices())"
   ]
  },
  {
   "cell_type": "code",
   "execution_count": 9,
   "metadata": {},
   "outputs": [],
   "source": [
    "import numpy as np\n",
    "import pandas as pd\n",
    "\n",
    "from keras.models import Sequential\n",
    "from keras.callbacks import ModelCheckpoint\n",
    "from keras.optimizers import SGD, Adam, Adadelta, RMSprop\n",
    "from keras.layers import Conv1D, Dense, MaxPooling1D, Flatten, Dropout\n",
    "from keras.layers import Embedding, GlobalAveragePooling1D, LSTM, SimpleRNN, GRU, SpatialDropout1D\n",
    "from keras import regularizers\n",
    "\n",
    "from sklearn.metrics import confusion_matrix\n",
    "import matplotlib.pyplot as plt\n",
    "import itertools\n",
    "\n",
    "from collections import Counter\n",
    "import matplotlib.pyplot as  plt\n",
    "\n",
    "from keras.preprocessing.text import Tokenizer\n",
    "from keras.preprocessing.sequence import pad_sequences\n",
    "from sklearn.feature_extraction.text import CountVectorizer\n",
    "from sklearn.feature_extraction.text import TfidfTransformer\n",
    "from sklearn.model_selection import train_test_splitt"
   ]
  },
  {
   "cell_type": "markdown",
   "metadata": {},
   "source": [
    "## DNA simulation with Markov chain"
   ]
  },
  {
   "cell_type": "code",
   "execution_count": 2,
   "metadata": {},
   "outputs": [
    {
     "name": "stdout",
     "output_type": "stream",
     "text": [
      "Neanderthal\n",
      "[0.04136712 0.11555263 0.7136529  1.        ]\n",
      "[0.05786986 0.45660257 0.87130854 1.        ]\n",
      "[0.12683783 0.34588325 0.71076181 1.        ]\n",
      "[0.39055079 0.52345277 0.79649856 1.        ]\n",
      "Human\n",
      "[0.24373137 0.2842872  0.54371019 1.        ]\n",
      "[0.27114067 0.45726817 0.74652974 1.        ]\n",
      "[0.30918451 0.434948   0.69806832 1.        ]\n",
      "[0.05202506 0.14868461 0.45167903 1.        ]\n"
     ]
    },
    {
     "data": {
      "text/html": [
       "<div>\n",
       "<style scoped>\n",
       "    .dataframe tbody tr th:only-of-type {\n",
       "        vertical-align: middle;\n",
       "    }\n",
       "\n",
       "    .dataframe tbody tr th {\n",
       "        vertical-align: top;\n",
       "    }\n",
       "\n",
       "    .dataframe thead th {\n",
       "        text-align: right;\n",
       "    }\n",
       "</style>\n",
       "<table border=\"1\" class=\"dataframe\">\n",
       "  <thead>\n",
       "    <tr style=\"text-align: right;\">\n",
       "      <th></th>\n",
       "      <th>A</th>\n",
       "      <th>C</th>\n",
       "      <th>G</th>\n",
       "      <th>T</th>\n",
       "    </tr>\n",
       "  </thead>\n",
       "  <tbody>\n",
       "    <tr>\n",
       "      <th>0</th>\n",
       "      <td>[0.24373136638318216, 0.2842871981121239, 0.54...</td>\n",
       "      <td>[0.27114067339238296, 0.4572681671424977, 0.74...</td>\n",
       "      <td>[0.30918450501966865, 0.4349479993200758, 0.69...</td>\n",
       "      <td>[0.05202505739462716, 0.14868461344297007, 0.4...</td>\n",
       "    </tr>\n",
       "    <tr>\n",
       "      <th>1</th>\n",
       "      <td>[A, C, G, T]</td>\n",
       "      <td>[A, C, G, T]</td>\n",
       "      <td>[A, C, G, T]</td>\n",
       "      <td>[A, C, G, T]</td>\n",
       "    </tr>\n",
       "  </tbody>\n",
       "</table>\n",
       "</div>"
      ],
      "text/plain": [
       "                                                   A  \\\n",
       "0  [0.24373136638318216, 0.2842871981121239, 0.54...   \n",
       "1                                       [A, C, G, T]   \n",
       "\n",
       "                                                   C  \\\n",
       "0  [0.27114067339238296, 0.4572681671424977, 0.74...   \n",
       "1                                       [A, C, G, T]   \n",
       "\n",
       "                                                   G  \\\n",
       "0  [0.30918450501966865, 0.4349479993200758, 0.69...   \n",
       "1                                       [A, C, G, T]   \n",
       "\n",
       "                                                   T  \n",
       "0  [0.05202505739462716, 0.14868461344297007, 0.4...  \n",
       "1                                       [A, C, G, T]  "
      ]
     },
     "metadata": {},
     "output_type": "display_data"
    },
    {
     "data": {
      "text/html": [
       "<div>\n",
       "<style scoped>\n",
       "    .dataframe tbody tr th:only-of-type {\n",
       "        vertical-align: middle;\n",
       "    }\n",
       "\n",
       "    .dataframe tbody tr th {\n",
       "        vertical-align: top;\n",
       "    }\n",
       "\n",
       "    .dataframe thead th {\n",
       "        text-align: right;\n",
       "    }\n",
       "</style>\n",
       "<table border=\"1\" class=\"dataframe\">\n",
       "  <thead>\n",
       "    <tr style=\"text-align: right;\">\n",
       "      <th></th>\n",
       "      <th>A</th>\n",
       "      <th>C</th>\n",
       "      <th>G</th>\n",
       "      <th>T</th>\n",
       "    </tr>\n",
       "  </thead>\n",
       "  <tbody>\n",
       "    <tr>\n",
       "      <th>0</th>\n",
       "      <td>[0.04136711856989648, 0.11555262694737811, 0.7...</td>\n",
       "      <td>[0.05786985928860636, 0.456602570498028, 0.871...</td>\n",
       "      <td>[0.12683783110082844, 0.3458832453130206, 0.71...</td>\n",
       "      <td>[0.3905507938023928, 0.5234527720123691, 0.796...</td>\n",
       "    </tr>\n",
       "    <tr>\n",
       "      <th>1</th>\n",
       "      <td>[A, C, G, T]</td>\n",
       "      <td>[A, C, G, T]</td>\n",
       "      <td>[A, C, G, T]</td>\n",
       "      <td>[A, C, G, T]</td>\n",
       "    </tr>\n",
       "  </tbody>\n",
       "</table>\n",
       "</div>"
      ],
      "text/plain": [
       "                                                   A  \\\n",
       "0  [0.04136711856989648, 0.11555262694737811, 0.7...   \n",
       "1                                       [A, C, G, T]   \n",
       "\n",
       "                                                   C  \\\n",
       "0  [0.05786985928860636, 0.456602570498028, 0.871...   \n",
       "1                                       [A, C, G, T]   \n",
       "\n",
       "                                                   G  \\\n",
       "0  [0.12683783110082844, 0.3458832453130206, 0.71...   \n",
       "1                                       [A, C, G, T]   \n",
       "\n",
       "                                                   T  \n",
       "0  [0.3905507938023928, 0.5234527720123691, 0.796...  \n",
       "1                                       [A, C, G, T]  "
      ]
     },
     "metadata": {},
     "output_type": "display_data"
    },
    {
     "name": "stdout",
     "output_type": "stream",
     "text": [
      "Kullback-Leibler symmetric divergence :  2.6493234261392806\n"
     ]
    }
   ],
   "source": [
    "nitro_base=[\"A\",\"C\",\"G\",\"T\"]\n",
    "markov_chain={}\n",
    "pdf_neanderthal={\"A\":[],\"C\":[], \"G\":[], \"T\":[]}\n",
    "pdf_human={\"A\":[],\"C\":[], \"G\":[], \"T\":[]}\n",
    "\n",
    "a = 0.50 # the larger is a and more variability in the markov probs of jump\n",
    "j_mtx_h=[]\n",
    "j_mtx_n=[]\n",
    "\n",
    "print(\"Neanderthal\")\n",
    "for k in pdf_neanderthal.keys():\n",
    "    probs=np.random.random(4)*2*a +(0.5-a)\n",
    "    probs_nb=probs/sum(probs)\n",
    "    j_mtx_n.append(probs_nb)\n",
    "    print(np.cumsum(probs_nb))\n",
    "    pdf_neanderthal[k]=[np.cumsum(probs_nb),nitro_base]\n",
    "    \n",
    "print(\"Human\") \n",
    "for k in pdf_human.keys():\n",
    "    probs=np.random.random(4)*2*a +(0.5-a)\n",
    "    probs_nb=probs/sum(probs)\n",
    "    j_mtx_h.append(probs_nb)\n",
    "    print(np.cumsum(probs_nb))\n",
    "    pdf_human[k]=[np.cumsum(probs_nb),nitro_base]\n",
    "\n",
    "display(pd.DataFrame(pdf_human))\n",
    "display(pd.DataFrame(pdf_neanderthal))\n",
    "\n",
    "similarity = 0\n",
    "for i in range(4):\n",
    "    for j in range(4):\n",
    "        similarity += j_mtx_h[i][j]*np.log(j_mtx_h[i][j]/j_mtx_n[i][j]) + j_mtx_n[i][j]*np.log(j_mtx_n[i][j]/j_mtx_h[i][j])\n",
    "print(\"Kullback-Leibler symmetric divergence : \", similarity)"
   ]
  },
  {
   "cell_type": "code",
   "execution_count": 3,
   "metadata": {},
   "outputs": [
    {
     "name": "stdout",
     "output_type": "stream",
     "text": [
      "DONE HUMAN\n",
      "DONE NEANDERTHAL\n",
      "18000000\n",
      "18000000\n"
     ]
    }
   ],
   "source": [
    "#Build DNA\n",
    "\n",
    "#Human\n",
    "DNA_length = 18000000\n",
    "human_DNA =['A']   \n",
    "neanderthal_DNA = ['A']\n",
    "\n",
    "for i in range(DNA_length-1): \n",
    "    MC=np.random.random(1)\n",
    "    for lim,what in zip(pdf_human[human_DNA[-1]][0],pdf_human[human_DNA[-1]][1]):\n",
    "        if(MC<=lim): \n",
    "            human_DNA.append(what)\n",
    "            MC = 0\n",
    "            break\n",
    "print(\"DONE HUMAN\")\n",
    "\n",
    "#Neanderthal\n",
    "for i in range(DNA_length-1):   \n",
    "    MC=np.random.random(1)\n",
    "    for lim,what in zip(pdf_neanderthal[human_DNA[-1]][0],pdf_neanderthal[human_DNA[-1]][1] ):\n",
    "        if(MC<=lim): \n",
    "            neanderthal_DNA.append(what)\n",
    "            MC = 0\n",
    "            break\n",
    "print(\"DONE NEANDERTHAL\")\n",
    "\n",
    "human_DNA=np.array(human_DNA)\n",
    "neanderthal_DNA=np.array(neanderthal_DNA)\n",
    "print(len(human_DNA))\n",
    "print(len(neanderthal_DNA))"
   ]
  },
  {
   "cell_type": "code",
   "execution_count": 4,
   "metadata": {},
   "outputs": [
    {
     "name": "stdout",
     "output_type": "stream",
     "text": [
      "(200, 18000, 5)\n",
      "(200, 18000, 5)\n",
      "words,sentences,letters\n"
     ]
    }
   ],
   "source": [
    "sentence_length= 1000 #HOW LONG A SENTENCE in letters\n",
    "word_length=5 #HOW LONG A WORD in letters\n",
    "\n",
    "#warning: number of sentences * word_lenght * sentence_lenght must be equal to the number of nucleotides\n",
    "\n",
    "#divide in sentences\n",
    "h_DNA_s= np.array(np.split(human_DNA, DNA_length//sentence_length))\n",
    "n_DNA_s= np.array(np.split(neanderthal_DNA, DNA_length//sentence_length))\n",
    "\n",
    "#divide in words\n",
    "h_DNA= np.array(np.split(h_DNA_s, sentence_length//word_length, axis=1  ))\n",
    "n_DNA= np.array(np.split(n_DNA_s, sentence_length//word_length , axis=1 ))\n",
    "\n",
    "print(h_DNA.shape)\n",
    "print(n_DNA.shape)\n",
    "print(\"words,sentences,letters\")"
   ]
  },
  {
   "cell_type": "code",
   "execution_count": 5,
   "metadata": {},
   "outputs": [
    {
     "name": "stdout",
     "output_type": "stream",
     "text": [
      "(18000, 200)\n"
     ]
    },
    {
     "data": {
      "text/plain": [
       "array(['ATGGG', 'GATGA', 'CGATA', ..., 'AATGA', 'TGGTT', 'TTTTG'],\n",
       "      dtype='<U5')"
      ]
     },
     "metadata": {},
     "output_type": "display_data"
    },
    {
     "name": "stdout",
     "output_type": "stream",
     "text": [
      "here\n",
      "there\n",
      "20\n"
     ]
    },
    {
     "data": {
      "image/png": "[encoded data removed]",
      "text/plain": [
       "<Figure size 432x288 with 1 Axes>"
      ]
     },
     "metadata": {
      "needs_background": "light"
     },
     "output_type": "display_data"
    },
    {
     "name": "stdout",
     "output_type": "stream",
     "text": [
      "here\n",
      "there\n",
      "20\n"
     ]
    },
    {
     "data": {
      "image/png": "[encoded data removed]",
      "text/plain": [
       "<Figure size 432x288 with 1 Axes>"
      ]
     },
     "metadata": {
      "needs_background": "light"
     },
     "output_type": "display_data"
    }
   ],
   "source": [
    "#make words strings.\n",
    "h_DNA = np.array([[''.join(h_DNA[i,j,:]) for i in range(h_DNA.shape[0]) ]for \n",
    "                  j in range(h_DNA.shape[1])])\n",
    "#make words strings.\n",
    "n_DNA = np.array([[''.join(n_DNA[i,j,:]) for i in range(n_DNA.shape[0]) ]for \n",
    "                  j in range(n_DNA.shape[1])])\n",
    "\n",
    "print(h_DNA.shape)\n",
    "\n",
    "h_DNA_check= h_DNA.reshape(DNA_length//word_length)\n",
    "n_DNA_check= n_DNA.reshape(DNA_length//word_length)\n",
    "display(h_DNA_check)\n",
    "h_DNA_check1=[]\n",
    "n_DNA_check1=[]\n",
    "\n",
    "\n",
    "##HUMAN\n",
    "print(\"here\")\n",
    "counts_h=dict(Counter(h_DNA_check).most_common(20))\n",
    "print(\"there\")\n",
    "labels_h, values_h = zip(*counts_h.items())\n",
    "\n",
    "#sort\n",
    "indsort_h = np.argsort(values_h)[::-1]\n",
    "\n",
    "#re_arrange\n",
    "labels_h= np.array(labels_h)[indsort_h]\n",
    "values_h= np.array(values_h)[indsort_h]\n",
    "indexes_h = np.arange(len(values_h))\n",
    "bar_width=0.2\n",
    "plt.bar(indexes_h, values_h)\n",
    "plt.xticks(indexes_h+bar_width,labels_h, rotation= 90)\n",
    "print(len(counts_h))\n",
    "\n",
    "plt.show()\n",
    "\n",
    "##NEANDERTHAL\n",
    "print(\"here\")\n",
    "counts_n=dict(Counter(n_DNA_check).most_common(20))\n",
    "print(\"there\")\n",
    "labels_n, values_n = zip(*counts_n.items())\n",
    "\n",
    "#sort\n",
    "indsort_n = np.argsort(values_n)[::-1]\n",
    "\n",
    "#re_arrange\n",
    "labels_n= np.array(labels_n)[indsort_n]\n",
    "values_n= np.array(values_n)[indsort_n]\n",
    "indexes_n = np.arange(len(values_n))\n",
    "bar_width=0.2\n",
    "plt.bar(indexes_n, values_n)\n",
    "plt.xticks(indexes_n+bar_width,labels_n, rotation= 90)\n",
    "print(len(counts_n))\n",
    "\n",
    "plt.show()"
   ]
  },
  {
   "cell_type": "code",
   "execution_count": 6,
   "metadata": {},
   "outputs": [
    {
     "name": "stdout",
     "output_type": "stream",
     "text": [
      "(28800, 200)\n",
      "28800\n",
      "1025\n"
     ]
    }
   ],
   "source": [
    "# Prepare data for the NN\n",
    "\n",
    "h_DNA_NN=[' '.join(h_DNA[i,:]) for i in range(h_DNA.shape[0])]\n",
    "n_DNA_NN=[' '.join(n_DNA[i,:]) for i in range(n_DNA.shape[0])]\n",
    "\n",
    "DNA_NN = h_DNA_NN+n_DNA_NN\n",
    "Y = [1]*len(h_DNA_NN)+[0]*len(n_DNA_NN)\n",
    "\n",
    "tokenizer = Tokenizer()\n",
    "tokenizer.fit_on_texts(DNA_NN)\n",
    "\n",
    "encoded_docs = tokenizer.texts_to_sequences(DNA_NN)\n",
    "max_length = max([len(s.split()) for s in DNA_NN])\n",
    "X = pad_sequences(encoded_docs, maxlen = max_length, padding = 'post')\n",
    "\n",
    "X_train, X_test, Y_train, Y_test = train_test_split(X, Y, test_size = 0.20, random_state = 42, shuffle = True)\n",
    "\n",
    "print(X_train.shape)\n",
    "print(len(Y_train))\n",
    "\n",
    "vocab_size = len(tokenizer.word_index) + 1\n",
    "print(vocab_size)"
   ]
  },
  {
   "cell_type": "code",
   "execution_count": 10,
   "metadata": {},
   "outputs": [
    {
     "name": "stdout",
     "output_type": "stream",
     "text": [
      "Model: \"sequential_3\"\n",
      "_________________________________________________________________\n",
      "Layer (type)                 Output Shape              Param #   \n",
      "=================================================================\n",
      "embedding_3 (Embedding)      (None, 200, 32)           32800     \n",
      "_________________________________________________________________\n",
      "spatial_dropout1d_1 (Spatial (None, 200, 32)           0         \n",
      "_________________________________________________________________\n",
      "lstm_2 (LSTM)                (None, 10)                1720      \n",
      "_________________________________________________________________\n",
      "dense_3 (Dense)              (None, 5)                 55        \n",
      "_________________________________________________________________\n",
      "dense_4 (Dense)              (None, 1)                 6         \n",
      "=================================================================\n",
      "Total params: 34,581\n",
      "Trainable params: 34,581\n",
      "Non-trainable params: 0\n",
      "_________________________________________________________________\n",
      "None\n"
     ]
    }
   ],
   "source": [
    "# build LSTM\n",
    "\n",
    "model = Sequential()\n",
    "model.add(Embedding(vocab_size, 32, input_length = max_length))\n",
    "model.add(SpatialDropout1D(0.2)) # MATTEO: HO AGGIUNTO QUESTO LAYER PERCHE' METTERE DROPOUT DENTRO EMBEDDING NON è PIù SUPPORTATO\n",
    "#model.add(SimpleRNN(10, dropout = 0.2, recurrent_dropout = 0.2))  #this sucks\n",
    "model.add(LSTM(10, dropout = 0.2, recurrent_dropout = 0.2))  #totally killing it\n",
    "#model.add(Conv1D(10, dropout = 0.2, recurrent_dropout = 0.2)) \n",
    "model.add(Dense(5,\n",
    "                kernel_regularizer=regularizers.l2(0.01),\n",
    "                activity_regularizer=regularizers.l1(0.01)))\n",
    "model.add(Dense(1, activation = 'sigmoid'))\n",
    "\n",
    "model.compile(loss = 'binary_crossentropy', optimizer = 'rmsprop', metrics = ['accuracy'])\n",
    "checkpoint = ModelCheckpoint(\"weights.best.hdf5\", monitor = 'val_acc', verbose = 1, \n",
    "                             save_best_only = True, mode = 'max')\n",
    "print(model.summary())"
   ]
  },
  {
   "cell_type": "code",
   "execution_count": 11,
   "metadata": {},
   "outputs": [
    {
     "name": "stderr",
     "output_type": "stream",
     "text": [
      "/home/ubuntu/anaconda3/lib/python3.7/site-packages/tensorflow_core/python/framework/indexed_slices.py:433: UserWarning: Converting sparse IndexedSlices to a dense Tensor of unknown shape. This may consume a large amount of memory.\n",
      "  \"Converting sparse IndexedSlices to a dense Tensor of unknown shape. \"\n"
     ]
    },
    {
     "name": "stdout",
     "output_type": "stream",
     "text": [
      "Train on 23040 samples, validate on 5760 samples\n",
      "Epoch 1/10\n",
      "23040/23040 [==============================] - 189s 8ms/step - loss: 0.6142 - accuracy: 0.9744 - val_loss: 0.5122 - val_accuracy: 1.0000\n",
      "Epoch 2/10\n"
     ]
    },
    {
     "name": "stderr",
     "output_type": "stream",
     "text": [
      "/home/ubuntu/anaconda3/lib/python3.7/site-packages/keras/callbacks/callbacks.py:707: RuntimeWarning: Can save best model only with val_acc available, skipping.\n",
      "  'skipping.' % (self.monitor), RuntimeWarning)\n"
     ]
    },
    {
     "name": "stdout",
     "output_type": "stream",
     "text": [
      "23040/23040 [==============================] - 191s 8ms/step - loss: 0.4626 - accuracy: 0.9963 - val_loss: 0.4087 - val_accuracy: 1.0000\n",
      "Epoch 3/10\n",
      "23040/23040 [==============================] - 193s 8ms/step - loss: 0.3781 - accuracy: 0.9976 - val_loss: 0.3428 - val_accuracy: 1.0000\n",
      "Epoch 4/10\n",
      "23040/23040 [==============================] - 184s 8ms/step - loss: 0.3214 - accuracy: 0.9983 - val_loss: 0.2954 - val_accuracy: 1.0000\n",
      "Epoch 5/10\n",
      "23040/23040 [==============================] - 188s 8ms/step - loss: 0.2824 - accuracy: 0.9979 - val_loss: 0.2630 - val_accuracy: 1.0000\n",
      "Epoch 6/10\n",
      "23040/23040 [==============================] - 190s 8ms/step - loss: 0.2506 - accuracy: 0.9987 - val_loss: 0.2351 - val_accuracy: 1.0000\n",
      "Epoch 7/10\n",
      "23040/23040 [==============================] - 185s 8ms/step - loss: 0.2270 - accuracy: 0.9987 - val_loss: 0.2148 - val_accuracy: 1.0000\n",
      "Epoch 8/10\n",
      "23040/23040 [==============================] - 181s 8ms/step - loss: 0.2076 - accuracy: 0.9989 - val_loss: 0.1961 - val_accuracy: 1.0000\n",
      "Epoch 9/10\n",
      "23040/23040 [==============================] - 196s 8ms/step - loss: 0.1911 - accuracy: 0.9992 - val_loss: 0.1824 - val_accuracy: 1.0000\n",
      "Epoch 10/10\n",
      "23040/23040 [==============================] - 195s 8ms/step - loss: 0.1773 - accuracy: 0.9994 - val_loss: 0.1690 - val_accuracy: 1.0000\n"
     ]
    }
   ],
   "source": [
    "epochs = 10\n",
    "history = model.fit(X_train, Y_train, \n",
    "                    epochs = epochs, \n",
    "                    verbose = 1, \n",
    "                    validation_split = 0.2, \n",
    "                    batch_size = 32, \n",
    "                    shuffle = True, \n",
    "                    callbacks = [checkpoint])"
   ]
  },
  {
   "cell_type": "code",
   "execution_count": 12,
   "metadata": {},
   "outputs": [
    {
     "data": {
      "image/png": "[encoded data removed]",
      "text/plain": [
       "<Figure size 432x288 with 2 Axes>"
      ]
     },
     "metadata": {
      "needs_background": "light"
     },
     "output_type": "display_data"
    }
   ],
   "source": [
    "predicted_labels = model.predict(X_test)\n",
    "cm = confusion_matrix(Y_test, [np.round(i[0]) for i in predicted_labels])\n",
    "cm = cm.astype('float') / cm.sum(axis = 1)[:, np.newaxis]\n",
    "\n",
    "plt.imshow(cm, cmap = plt.cm.Blues)\n",
    "plt.title('Normalized confusion matrix', fontsize = 15)\n",
    "plt.colorbar()\n",
    "plt.xlabel('True label', fontsize = 15)\n",
    "plt.ylabel('Predicted label', fontsize = 15)\n",
    "for i, j in itertools.product(range(cm.shape[0]), range(cm.shape[1])):\n",
    "    plt.text(j, i, format(cm[i, j], '.2f'),\n",
    "             horizontalalignment = 'center', verticalalignment = 'center', fontsize = 20,\n",
    "             color='white' if cm[i, j] > 0.5 else 'black')\n",
    "plt.show()"
   ]
  },
  {
   "cell_type": "markdown",
   "metadata": {},
   "source": [
    "## Really complicated dna differentiation\n",
    "\n",
    "Imagine a chain of nucleotides, divided in genes and intragenic DNA. Genes must be functioning, so they have a pattern, intragenic DNA not, so it can be random.\n",
    "\n",
    "...intagrenic----gene----intragenic---gene---intragenic....\n",
    "\n",
    "GENES\n",
    "\n",
    "We have N genes. Genes have the same order among neanderthal and humans:\n",
    "\n",
    "Hair--Height--Eyes--Beard.. <- Neanderthal \n",
    "\n",
    "Hair--Height--Eyes--Beard.. <- Human\n",
    "\n",
    "Humans and neanderthal are similar, so they have similar genes. Hence for a sigle gene i decided to have different variants, like brown hair, blond hairs, but they have to differ for small variation otherwise you would be bald.\n",
    "\n",
    "From a logic point of view, change a small number of nucleotides from a random sequence so you have the variants, but they keep the same lenght in all the variants.\n",
    "\n",
    "Genes have correlations between themselves, decided randomly between a random number of genes. For example Genes 1,8,15 are correlated in humans, correlations between 3 elements-> why? 3 is sampled from a \"discrete gaussian\", why 1,8,15 choseen random.\n",
    "\n",
    "INTRAGENIC\n",
    "\n",
    "We have N+1 intragenic sequence, of variable lenght interposed between genes.\n",
    "\n",
    "How humans differ from neanderthal??\n",
    "\n",
    "Intragenic dna different in lenght, for example in a human intragenic dna between genes 1 and 2, contains 100 nucleotides, while in the neanderthal 90. Correlations between different genes. like neanderthal correlates Nose and Beard, while human Height and Fat percentage.\n",
    "\n",
    "How humans differ from humans and neanderthal from neanderthal?\n",
    "\n",
    "Same intragenic lenght, but different nucleotides. Different genes variants."
   ]
  },
  {
   "cell_type": "code",
   "execution_count": 17,
   "metadata": {},
   "outputs": [],
   "source": [
    "#Manopole\n",
    "#decide the percentage of geneDNA in a sentence.\n",
    "pc_genes = 0.5\n",
    "\n",
    "#How many genes?\n",
    "N_genes = 50\n",
    "\n",
    "#Choose genes to correlate\n",
    "\n",
    "#How many?\n",
    "avg_dimension_of_correlation_clusters = 3\n",
    "\n",
    "b=0.4 #how different are different genes ? max 0.5\n",
    "fraction_of_mutations_per_gene=0.1#percentage of random mutations in gene variants\n",
    "variants=3 #how may variants?\n",
    "\n",
    "\n",
    "N_people= 3000\n",
    "sentence_length= 2000 #HOW LONG A SENTENCE in letters\n",
    "\n",
    "\n",
    "word_length=5 #HOW LONG A WORD in letters\n",
    "\n",
    "#do you want same intragenic location in neanderthals and humans?\n",
    "same = True\n",
    "\n",
    "#Sorry i did not implemented different genes.."
   ]
  },
  {
   "cell_type": "code",
   "execution_count": 18,
   "metadata": {},
   "outputs": [
    {
     "name": "stdout",
     "output_type": "stream",
     "text": [
      "1000.0\n",
      "1000.0\n",
      "1000.0\n",
      "1000.0\n",
      "[15. 17. 28. 20. 20. 17. 20. 20. 18. 16. 18. 23. 34. 30. 19. 22. 17. 18.\n",
      " 27. 16. 17. 13. 15. 21. 17. 21. 18. 16. 16. 18. 18. 22. 19. 33. 14. 22.\n",
      " 17. 21. 17. 26. 25. 22. 21. 18. 25. 14. 13. 24. 15. 27.]\n"
     ]
    }
   ],
   "source": [
    "#Build Genes\n",
    "\n",
    "genes_nucleotides = (sentence_length*pc_genes) //1 \n",
    "intragenic_nucleotides= sentence_length - genes_nucleotides\n",
    "\n",
    "print(genes_nucleotides)\n",
    "print(intragenic_nucleotides)\n",
    "\n",
    "#How many intergenic sequences?\n",
    "N_intragenic=N_genes+1\n",
    "\n",
    "def split_in_different_leghts_sequence(how_many_nucleotides_for_genes, how_many_sequences):\n",
    "    N_n=how_many_nucleotides_for_genes\n",
    "    N_s=how_many_sequences\n",
    "    seqs=np.zeros(N_s)\n",
    "    for i in range(len(seqs)-1):\n",
    "        while(True):\n",
    "            ls=int(np.random.poisson((N_n/N_s)))\n",
    "            if ls>1: \n",
    "                break\n",
    "        N_n=N_n-ls\n",
    "        N_s=N_s-1\n",
    "        seqs[i]=int(ls)\n",
    "    seqs[-1]=N_n\n",
    "    return(seqs)\n",
    "\n",
    "genes_char=split_in_different_leghts_sequence(genes_nucleotides, N_genes)\n",
    "intragenic_char_humans=split_in_different_leghts_sequence(intragenic_nucleotides, N_intragenic)\n",
    "if same == False : \n",
    "    intragenic_char_neanderthal=split_in_different_leghts_sequence(intragenic_nucleotides, N_intragenic)\n",
    "else :\n",
    "    intragenic_char_neanderthal=intragenic_char_humans\n",
    "\n",
    "print(sum(intragenic_char_neanderthal))\n",
    "print(sum(intragenic_char_humans))\n",
    "print(genes_char)\n",
    "\n",
    "#Now I have the characterization of all genic and intragenic sequences"
   ]
  },
  {
   "cell_type": "code",
   "execution_count": 19,
   "metadata": {},
   "outputs": [
    {
     "name": "stdout",
     "output_type": "stream",
     "text": [
      "Theese are the correlation cluster, dont worry about the NAN it simply means that this cluster is smaller thna the number of columns\n",
      "human\n"
     ]
    },
    {
     "data": {
      "text/html": [
       "<div>\n",
       "<style scoped>\n",
       "    .dataframe tbody tr th:only-of-type {\n",
       "        vertical-align: middle;\n",
       "    }\n",
       "\n",
       "    .dataframe tbody tr th {\n",
       "        vertical-align: top;\n",
       "    }\n",
       "\n",
       "    .dataframe thead th {\n",
       "        text-align: right;\n",
       "    }\n",
       "</style>\n",
       "<table border=\"1\" class=\"dataframe\">\n",
       "  <thead>\n",
       "    <tr style=\"text-align: right;\">\n",
       "      <th></th>\n",
       "      <th>0</th>\n",
       "      <th>1</th>\n",
       "      <th>2</th>\n",
       "      <th>3</th>\n",
       "      <th>4</th>\n",
       "      <th>5</th>\n",
       "    </tr>\n",
       "  </thead>\n",
       "  <tbody>\n",
       "    <tr>\n",
       "      <th>0</th>\n",
       "      <td>43</td>\n",
       "      <td>30.0</td>\n",
       "      <td>10.0</td>\n",
       "      <td>NaN</td>\n",
       "      <td>NaN</td>\n",
       "      <td>NaN</td>\n",
       "    </tr>\n",
       "    <tr>\n",
       "      <th>1</th>\n",
       "      <td>40</td>\n",
       "      <td>45.0</td>\n",
       "      <td>3.0</td>\n",
       "      <td>NaN</td>\n",
       "      <td>NaN</td>\n",
       "      <td>NaN</td>\n",
       "    </tr>\n",
       "    <tr>\n",
       "      <th>2</th>\n",
       "      <td>24</td>\n",
       "      <td>44.0</td>\n",
       "      <td>31.0</td>\n",
       "      <td>NaN</td>\n",
       "      <td>NaN</td>\n",
       "      <td>NaN</td>\n",
       "    </tr>\n",
       "    <tr>\n",
       "      <th>3</th>\n",
       "      <td>35</td>\n",
       "      <td>49.0</td>\n",
       "      <td>NaN</td>\n",
       "      <td>NaN</td>\n",
       "      <td>NaN</td>\n",
       "      <td>NaN</td>\n",
       "    </tr>\n",
       "    <tr>\n",
       "      <th>4</th>\n",
       "      <td>15</td>\n",
       "      <td>18.0</td>\n",
       "      <td>14.0</td>\n",
       "      <td>NaN</td>\n",
       "      <td>NaN</td>\n",
       "      <td>NaN</td>\n",
       "    </tr>\n",
       "    <tr>\n",
       "      <th>5</th>\n",
       "      <td>12</td>\n",
       "      <td>26.0</td>\n",
       "      <td>19.0</td>\n",
       "      <td>NaN</td>\n",
       "      <td>NaN</td>\n",
       "      <td>NaN</td>\n",
       "    </tr>\n",
       "    <tr>\n",
       "      <th>6</th>\n",
       "      <td>6</td>\n",
       "      <td>28.0</td>\n",
       "      <td>NaN</td>\n",
       "      <td>NaN</td>\n",
       "      <td>NaN</td>\n",
       "      <td>NaN</td>\n",
       "    </tr>\n",
       "    <tr>\n",
       "      <th>7</th>\n",
       "      <td>39</td>\n",
       "      <td>13.0</td>\n",
       "      <td>17.0</td>\n",
       "      <td>1.0</td>\n",
       "      <td>0.0</td>\n",
       "      <td>47.0</td>\n",
       "    </tr>\n",
       "    <tr>\n",
       "      <th>8</th>\n",
       "      <td>4</td>\n",
       "      <td>42.0</td>\n",
       "      <td>34.0</td>\n",
       "      <td>7.0</td>\n",
       "      <td>11.0</td>\n",
       "      <td>NaN</td>\n",
       "    </tr>\n",
       "    <tr>\n",
       "      <th>9</th>\n",
       "      <td>33</td>\n",
       "      <td>8.0</td>\n",
       "      <td>38.0</td>\n",
       "      <td>22.0</td>\n",
       "      <td>16.0</td>\n",
       "      <td>36.0</td>\n",
       "    </tr>\n",
       "    <tr>\n",
       "      <th>10</th>\n",
       "      <td>27</td>\n",
       "      <td>48.0</td>\n",
       "      <td>NaN</td>\n",
       "      <td>NaN</td>\n",
       "      <td>NaN</td>\n",
       "      <td>NaN</td>\n",
       "    </tr>\n",
       "    <tr>\n",
       "      <th>11</th>\n",
       "      <td>2</td>\n",
       "      <td>23.0</td>\n",
       "      <td>29.0</td>\n",
       "      <td>NaN</td>\n",
       "      <td>NaN</td>\n",
       "      <td>NaN</td>\n",
       "    </tr>\n",
       "    <tr>\n",
       "      <th>12</th>\n",
       "      <td>37</td>\n",
       "      <td>25.0</td>\n",
       "      <td>5.0</td>\n",
       "      <td>NaN</td>\n",
       "      <td>NaN</td>\n",
       "      <td>NaN</td>\n",
       "    </tr>\n",
       "    <tr>\n",
       "      <th>13</th>\n",
       "      <td>32</td>\n",
       "      <td>NaN</td>\n",
       "      <td>NaN</td>\n",
       "      <td>NaN</td>\n",
       "      <td>NaN</td>\n",
       "      <td>NaN</td>\n",
       "    </tr>\n",
       "    <tr>\n",
       "      <th>14</th>\n",
       "      <td>46</td>\n",
       "      <td>NaN</td>\n",
       "      <td>NaN</td>\n",
       "      <td>NaN</td>\n",
       "      <td>NaN</td>\n",
       "      <td>NaN</td>\n",
       "    </tr>\n",
       "    <tr>\n",
       "      <th>15</th>\n",
       "      <td>41</td>\n",
       "      <td>21.0</td>\n",
       "      <td>NaN</td>\n",
       "      <td>NaN</td>\n",
       "      <td>NaN</td>\n",
       "      <td>NaN</td>\n",
       "    </tr>\n",
       "    <tr>\n",
       "      <th>16</th>\n",
       "      <td>9</td>\n",
       "      <td>20.0</td>\n",
       "      <td>NaN</td>\n",
       "      <td>NaN</td>\n",
       "      <td>NaN</td>\n",
       "      <td>NaN</td>\n",
       "    </tr>\n",
       "  </tbody>\n",
       "</table>\n",
       "</div>"
      ],
      "text/plain": [
       "     0     1     2     3     4     5\n",
       "0   43  30.0  10.0   NaN   NaN   NaN\n",
       "1   40  45.0   3.0   NaN   NaN   NaN\n",
       "2   24  44.0  31.0   NaN   NaN   NaN\n",
       "3   35  49.0   NaN   NaN   NaN   NaN\n",
       "4   15  18.0  14.0   NaN   NaN   NaN\n",
       "5   12  26.0  19.0   NaN   NaN   NaN\n",
       "6    6  28.0   NaN   NaN   NaN   NaN\n",
       "7   39  13.0  17.0   1.0   0.0  47.0\n",
       "8    4  42.0  34.0   7.0  11.0   NaN\n",
       "9   33   8.0  38.0  22.0  16.0  36.0\n",
       "10  27  48.0   NaN   NaN   NaN   NaN\n",
       "11   2  23.0  29.0   NaN   NaN   NaN\n",
       "12  37  25.0   5.0   NaN   NaN   NaN\n",
       "13  32   NaN   NaN   NaN   NaN   NaN\n",
       "14  46   NaN   NaN   NaN   NaN   NaN\n",
       "15  41  21.0   NaN   NaN   NaN   NaN\n",
       "16   9  20.0   NaN   NaN   NaN   NaN"
      ]
     },
     "metadata": {},
     "output_type": "display_data"
    },
    {
     "name": "stdout",
     "output_type": "stream",
     "text": [
      "neandertal\n"
     ]
    },
    {
     "data": {
      "text/html": [
       "<div>\n",
       "<style scoped>\n",
       "    .dataframe tbody tr th:only-of-type {\n",
       "        vertical-align: middle;\n",
       "    }\n",
       "\n",
       "    .dataframe tbody tr th {\n",
       "        vertical-align: top;\n",
       "    }\n",
       "\n",
       "    .dataframe thead th {\n",
       "        text-align: right;\n",
       "    }\n",
       "</style>\n",
       "<table border=\"1\" class=\"dataframe\">\n",
       "  <thead>\n",
       "    <tr style=\"text-align: right;\">\n",
       "      <th></th>\n",
       "      <th>0</th>\n",
       "      <th>1</th>\n",
       "      <th>2</th>\n",
       "      <th>3</th>\n",
       "      <th>4</th>\n",
       "      <th>5</th>\n",
       "    </tr>\n",
       "  </thead>\n",
       "  <tbody>\n",
       "    <tr>\n",
       "      <th>0</th>\n",
       "      <td>6</td>\n",
       "      <td>27.0</td>\n",
       "      <td>19.0</td>\n",
       "      <td>39.0</td>\n",
       "      <td>44.0</td>\n",
       "      <td>30.0</td>\n",
       "    </tr>\n",
       "    <tr>\n",
       "      <th>1</th>\n",
       "      <td>35</td>\n",
       "      <td>32.0</td>\n",
       "      <td>48.0</td>\n",
       "      <td>37.0</td>\n",
       "      <td>NaN</td>\n",
       "      <td>NaN</td>\n",
       "    </tr>\n",
       "    <tr>\n",
       "      <th>2</th>\n",
       "      <td>16</td>\n",
       "      <td>23.0</td>\n",
       "      <td>41.0</td>\n",
       "      <td>46.0</td>\n",
       "      <td>40.0</td>\n",
       "      <td>NaN</td>\n",
       "    </tr>\n",
       "    <tr>\n",
       "      <th>3</th>\n",
       "      <td>49</td>\n",
       "      <td>4.0</td>\n",
       "      <td>7.0</td>\n",
       "      <td>20.0</td>\n",
       "      <td>28.0</td>\n",
       "      <td>47.0</td>\n",
       "    </tr>\n",
       "    <tr>\n",
       "      <th>4</th>\n",
       "      <td>34</td>\n",
       "      <td>0.0</td>\n",
       "      <td>8.0</td>\n",
       "      <td>45.0</td>\n",
       "      <td>NaN</td>\n",
       "      <td>NaN</td>\n",
       "    </tr>\n",
       "    <tr>\n",
       "      <th>5</th>\n",
       "      <td>12</td>\n",
       "      <td>5.0</td>\n",
       "      <td>NaN</td>\n",
       "      <td>NaN</td>\n",
       "      <td>NaN</td>\n",
       "      <td>NaN</td>\n",
       "    </tr>\n",
       "    <tr>\n",
       "      <th>6</th>\n",
       "      <td>25</td>\n",
       "      <td>NaN</td>\n",
       "      <td>NaN</td>\n",
       "      <td>NaN</td>\n",
       "      <td>NaN</td>\n",
       "      <td>NaN</td>\n",
       "    </tr>\n",
       "    <tr>\n",
       "      <th>7</th>\n",
       "      <td>1</td>\n",
       "      <td>33.0</td>\n",
       "      <td>13.0</td>\n",
       "      <td>17.0</td>\n",
       "      <td>9.0</td>\n",
       "      <td>43.0</td>\n",
       "    </tr>\n",
       "    <tr>\n",
       "      <th>8</th>\n",
       "      <td>29</td>\n",
       "      <td>18.0</td>\n",
       "      <td>NaN</td>\n",
       "      <td>NaN</td>\n",
       "      <td>NaN</td>\n",
       "      <td>NaN</td>\n",
       "    </tr>\n",
       "    <tr>\n",
       "      <th>9</th>\n",
       "      <td>15</td>\n",
       "      <td>24.0</td>\n",
       "      <td>10.0</td>\n",
       "      <td>38.0</td>\n",
       "      <td>NaN</td>\n",
       "      <td>NaN</td>\n",
       "    </tr>\n",
       "    <tr>\n",
       "      <th>10</th>\n",
       "      <td>2</td>\n",
       "      <td>11.0</td>\n",
       "      <td>31.0</td>\n",
       "      <td>NaN</td>\n",
       "      <td>NaN</td>\n",
       "      <td>NaN</td>\n",
       "    </tr>\n",
       "    <tr>\n",
       "      <th>11</th>\n",
       "      <td>42</td>\n",
       "      <td>26.0</td>\n",
       "      <td>21.0</td>\n",
       "      <td>3.0</td>\n",
       "      <td>14.0</td>\n",
       "      <td>NaN</td>\n",
       "    </tr>\n",
       "    <tr>\n",
       "      <th>12</th>\n",
       "      <td>36</td>\n",
       "      <td>NaN</td>\n",
       "      <td>NaN</td>\n",
       "      <td>NaN</td>\n",
       "      <td>NaN</td>\n",
       "      <td>NaN</td>\n",
       "    </tr>\n",
       "    <tr>\n",
       "      <th>13</th>\n",
       "      <td>22</td>\n",
       "      <td>NaN</td>\n",
       "      <td>NaN</td>\n",
       "      <td>NaN</td>\n",
       "      <td>NaN</td>\n",
       "      <td>NaN</td>\n",
       "    </tr>\n",
       "  </tbody>\n",
       "</table>\n",
       "</div>"
      ],
      "text/plain": [
       "     0     1     2     3     4     5\n",
       "0    6  27.0  19.0  39.0  44.0  30.0\n",
       "1   35  32.0  48.0  37.0   NaN   NaN\n",
       "2   16  23.0  41.0  46.0  40.0   NaN\n",
       "3   49   4.0   7.0  20.0  28.0  47.0\n",
       "4   34   0.0   8.0  45.0   NaN   NaN\n",
       "5   12   5.0   NaN   NaN   NaN   NaN\n",
       "6   25   NaN   NaN   NaN   NaN   NaN\n",
       "7    1  33.0  13.0  17.0   9.0  43.0\n",
       "8   29  18.0   NaN   NaN   NaN   NaN\n",
       "9   15  24.0  10.0  38.0   NaN   NaN\n",
       "10   2  11.0  31.0   NaN   NaN   NaN\n",
       "11  42  26.0  21.0   3.0  14.0   NaN\n",
       "12  36   NaN   NaN   NaN   NaN   NaN\n",
       "13  22   NaN   NaN   NaN   NaN   NaN"
      ]
     },
     "metadata": {},
     "output_type": "display_data"
    }
   ],
   "source": [
    "def correlate_genes(N_genes,cluster_dim):\n",
    "    clusters=[]\n",
    "    genes=[i for i in range((N_genes))]\n",
    "    while(len(genes) != 0):\n",
    "        while (True):\n",
    "            curr_cl= int(np.random.poisson((cluster_dim)))\n",
    "            if curr_cl <= len(genes) and curr_cl>0: break\n",
    "            #else: print(curr_cl, len(genes))\n",
    "        clusters.append(np.random.choice(genes, curr_cl, False))\n",
    "        for c in clusters[-1]:\n",
    "            genes.remove(c)\n",
    "    return((clusters))\n",
    "\n",
    "corrs_human=correlate_genes(N_genes,avg_dimension_of_correlation_clusters)\n",
    "corrs_neanderthal=correlate_genes(N_genes,avg_dimension_of_correlation_clusters)\n",
    "print(\"Theese are the correlation cluster, dont worry about the NAN it simply means that this cluster is smaller thna the number of columns\")       \n",
    "print(\"human\")\n",
    "display(pd.DataFrame(corrs_human)) \n",
    "print(\"neandertal\")\n",
    "display(pd.DataFrame(corrs_neanderthal))\n",
    "\n",
    "#Now i got the genes that are correlated.\n",
    "#In future we can include different genes correlations between human and neanderthal"
   ]
  },
  {
   "cell_type": "code",
   "execution_count": 20,
   "metadata": {},
   "outputs": [
    {
     "name": "stdout",
     "output_type": "stream",
     "text": [
      "you got these number of variants per gene :  3\n"
     ]
    }
   ],
   "source": [
    "#Now let's build the genes and their variants.\n",
    "\n",
    "var=variants-1 # ;) read the code and you'll know why\n",
    "genes=[]\n",
    "\n",
    "#Here we build the single gene\n",
    "\n",
    "for i in range(N_genes):    \n",
    "    tmp_var=np.random.random(4)*2*b +(0.5-b)\n",
    "    distr_f_a_gene=tmp_var/sum(tmp_var)\n",
    "    #print(np.cumsum(distr_f_a_gene))\n",
    "    genes_tmp=[]\n",
    "    for j in range(int(genes_char[i])): \n",
    "        MC_1=np.random.random(1)\n",
    "        which_nucleotide=0\n",
    "        for lim in np.cumsum(distr_f_a_gene):\n",
    "            if(MC_1<=lim): \n",
    "                genes_tmp.append(which_nucleotide)\n",
    "                MC_1= 0\n",
    "                break\n",
    "            else:   which_nucleotide+=1 \n",
    "    genes.append(genes_tmp)\n",
    "#now add random mutations to characterize each variant.\n",
    "#we'll have genes->n variants\n",
    "genes_nv=genes\n",
    "genes=[]\n",
    "#print(genes[0][0])\n",
    "\n",
    "i=0\n",
    "for gene in genes_nv:\n",
    "    tmp_var=[]\n",
    "    tmp_var.append(gene)\n",
    "    for j in range(var) :\n",
    "        mutations_where=[]\n",
    "        mutations_where=np.random.choice(range(len(gene)), \n",
    "                                    (int(fraction_of_mutations_per_gene*len(gene))) , False)\n",
    "        #print(range(len(gene)))\n",
    "        \n",
    "        tmp_a=list(gene)\n",
    "        for m_w in mutations_where:\n",
    "            tmp_a[m_w]=np.random.randint(4)\n",
    "            \n",
    "        tmp_var.append(tmp_a)\n",
    "    genes.append(tmp_var)\n",
    "        \n",
    "print(\"you got these number of variants per gene : \",len(genes[0]))"
   ]
  },
  {
   "cell_type": "code",
   "execution_count": 21,
   "metadata": {},
   "outputs": [
    {
     "name": "stdout",
     "output_type": "stream",
     "text": [
      "Limits for the Monte Carlo, columns as many as the variants, rows as many as the correlation clusters\n",
      "human\n"
     ]
    },
    {
     "data": {
      "text/plain": [
       "[array([0.26706426, 0.81887529, 1.        ]),\n",
       " array([0.56257231, 0.89852605, 1.        ]),\n",
       " array([0.32162726, 0.64273611, 1.        ]),\n",
       " array([0.58889324, 0.83173316, 1.        ]),\n",
       " array([0.36858813, 0.74305497, 1.        ]),\n",
       " array([0.29278642, 0.71123589, 1.        ]),\n",
       " array([0.58992592, 0.7002543 , 1.        ]),\n",
       " array([0.30414602, 0.63624611, 1.        ]),\n",
       " array([0.40294156, 0.59078856, 1.        ]),\n",
       " array([0.22600089, 0.60620652, 1.        ]),\n",
       " array([0.33097797, 0.67108524, 1.        ]),\n",
       " array([0.60186228, 0.96042483, 1.        ]),\n",
       " array([0.114591  , 0.16250784, 1.        ]),\n",
       " array([0.05621771, 0.5448101 , 1.        ]),\n",
       " array([0.02010825, 0.440064  , 1.        ]),\n",
       " array([0.12585039, 0.52124891, 1.        ]),\n",
       " array([0.19024175, 0.22414998, 1.        ])]"
      ]
     },
     "metadata": {},
     "output_type": "display_data"
    },
    {
     "name": "stdout",
     "output_type": "stream",
     "text": [
      "nean\n"
     ]
    },
    {
     "data": {
      "text/plain": [
       "[array([0.26236464, 0.50951186, 1.        ]),\n",
       " array([0.2758502, 0.7555994, 1.       ]),\n",
       " array([0.22569602, 0.71939549, 1.        ]),\n",
       " array([0.16288765, 0.54020084, 1.        ]),\n",
       " array([0.46047609, 0.5070118 , 1.        ]),\n",
       " array([0.44797973, 0.96900396, 1.        ]),\n",
       " array([0.06992587, 0.8413092 , 1.        ]),\n",
       " array([0.42620319, 0.96016079, 1.        ]),\n",
       " array([0.18101944, 0.502305  , 1.        ]),\n",
       " array([0.06051212, 0.5491738 , 1.        ]),\n",
       " array([0.04039207, 0.736052  , 1.        ]),\n",
       " array([0.49051014, 0.72746901, 1.        ]),\n",
       " array([0.32536672, 0.92499708, 1.        ]),\n",
       " array([0.02443939, 0.57994216, 1.        ])]"
      ]
     },
     "metadata": {},
     "output_type": "display_data"
    }
   ],
   "source": [
    "#Make a prob_distr for each correlation cluster, to choose the variants\n",
    "corr_distr_human=[]\n",
    "corr_distr_nean=[]\n",
    "for i in range(len(corrs_human)):\n",
    "    prob_xcorr=np.random.random(var+1)\n",
    "    prob_xcorr=np.cumsum(prob_xcorr)/sum(prob_xcorr)\n",
    "    corr_distr_human.append(prob_xcorr)\n",
    "for i in range(len(corrs_neanderthal)):\n",
    "    prob_xcorr=np.random.random(var+1)\n",
    "    prob_xcorr=np.cumsum(prob_xcorr)/sum(prob_xcorr)\n",
    "    corr_distr_nean.append(prob_xcorr)\n",
    "\n",
    "print(\"Limits for the Monte Carlo, columns as many as the variants, rows as many as the correlation clusters\")    \n",
    "print(\"human\")\n",
    "display(corr_distr_human)\n",
    "print(\"nean\")\n",
    "display(corr_distr_nean)"
   ]
  },
  {
   "cell_type": "code",
   "execution_count": 22,
   "metadata": {},
   "outputs": [
    {
     "name": "stdout",
     "output_type": "stream",
     "text": [
      "Loading :  2999 / 3000\n",
      "[1. 0. 0. 0. 2. 2. 2. 0. 1. 0. 2. 0. 2. 1. 1. 0. 2. 2. 2. 1. 2. 1. 1. 1.\n",
      " 0. 2. 1. 2. 2. 0. 0. 2. 1. 0. 0. 0. 1. 2. 0. 2. 0. 1. 0. 1. 0. 0. 2. 1.\n",
      " 0. 0.]\n",
      "[2. 1. 1. 1. 2. 0. 0. 1. 2. 1. 2. 1. 0. 1. 0. 1. 1. 1. 1. 2. 1. 1. 1. 2.\n",
      " 2. 0. 0. 2. 1. 2. 2. 1. 0. 0. 0. 1. 2. 0. 2. 1. 1. 1. 1. 1. 2. 2. 2. 0.\n",
      " 0. 1.]\n",
      "[0, 0, 2, 1, 0, 0, 0, 0, 1, 0, 1, 0, 3, 1, 0, 2, 1]\n",
      "(3000, 2000)\n",
      "(3000, 2000)\n",
      "(400, 3000, 5)\n",
      "(400, 3000, 5)\n"
     ]
    }
   ],
   "source": [
    "from IPython.display import clear_output\n",
    "\n",
    "neanderthals=[]\n",
    "humans=[]\n",
    "\n",
    "for person in range(N_people):\n",
    "\n",
    "    clear_output(wait=\"True\")\n",
    "    print(\"Loading : \",person, \"/\", N_people )\n",
    "    #Build genome \n",
    "    human_genome_info=np.zeros(N_genes)\n",
    "    for i in range(len(corr_distr_human)):\n",
    "        for gene in corrs_human[i]:\n",
    "            which_variants=0           \n",
    "            MC_2=np.random.random()\n",
    "            for lim in corr_distr_human[i]:\n",
    "                if(MC_2<=lim): \n",
    "                    human_genome_info[gene]=which_variants\n",
    "                    MC_2= 0\n",
    "                    break\n",
    "                else: which_variants+=1\n",
    "    print(human_genome_info)\n",
    "\n",
    "    nean_genome_info=np.zeros(N_genes)\n",
    "    for i in range(len(corr_distr_nean)):\n",
    "        for gene in corrs_neanderthal[i]:\n",
    "            which_variants=0           \n",
    "            MC_2=np.random.random()\n",
    "            for lim in corr_distr_nean[i]:\n",
    "                if(MC_2<=lim): \n",
    "                    nean_genome_info[gene]=which_variants\n",
    "                    MC_2= 0\n",
    "                    break\n",
    "                else: which_variants+=1\n",
    "    print(nean_genome_info)\n",
    "\n",
    "\n",
    "    #Build genes:\n",
    "\n",
    "    human_genome=[]\n",
    "    nean_genome=[]\n",
    "    for i in range(len(human_genome_info)):\n",
    "        human_genome.append(genes[i][int(human_genome_info[i])])\n",
    "    for i in range(len(nean_genome_info)):\n",
    "        nean_genome.append(genes[i][int(nean_genome_info[i])])\n",
    "    human_genome_info=[]\n",
    "    nean_genome_info=[]\n",
    "\n",
    "    #build intragenic\n",
    "    human_intra=[]\n",
    "    nean_intra=[]\n",
    "    for i in range(len(intragenic_char_humans)):\n",
    "        human_intra.append(np.random.randint(4,size=int(intragenic_char_humans[i])))\n",
    "\n",
    "    for i in range(len(intragenic_char_neanderthal)):\n",
    "        nean_intra.append(np.random.randint(4,size=int(intragenic_char_humans[i])))\n",
    "\n",
    "    #build genome\n",
    "\n",
    "    human_DNA= list(human_intra[0])\n",
    "    nean_DNA= list(nean_intra[0])\n",
    "    print(human_DNA)\n",
    "    for i in range(0,N_genes):\n",
    "        for nuc in human_genome[i]:\n",
    "            human_DNA.append(nuc)\n",
    "        for nuc in human_intra[i+1]:\n",
    "            human_DNA.append(nuc)\n",
    "        for nuc in nean_genome[i]:\n",
    "            nean_DNA.append(nuc)\n",
    "        for nuc in nean_intra[i+1]:\n",
    "            nean_DNA.append(nuc)\n",
    "    #to letters\n",
    "\n",
    "    human_genome=[]\n",
    "    nean_genome=[]\n",
    "    nean_intra=[]\n",
    "    humna_intra=[]\n",
    "\n",
    "    my_d={0:'A',1:'C',2:'G',3:'T'}\n",
    "    for i in range(len(human_DNA)):\n",
    "        human_DNA[i]=my_d[human_DNA[i]]\n",
    "    for i in range(len(nean_DNA)):\n",
    "        nean_DNA[i]=my_d[nean_DNA[i]]\n",
    "    \n",
    "    humans.append(human_DNA)\n",
    "    neanderthals.append(nean_DNA)\n",
    "humans=np.array(humans)\n",
    "neanderthals=np.array(neanderthals)\n",
    "\n",
    "print(humans.shape)\n",
    "print(neanderthals.shape)\n",
    "\n",
    "#divide in words\n",
    "h_DNA= np.array(np.split(humans, sentence_length//word_length, axis=1  ))\n",
    "n_DNA= np.array(np.split(neanderthals, sentence_length//word_length , axis=1 ))\n",
    "\n",
    "print(h_DNA.shape)\n",
    "print(n_DNA.shape)"
   ]
  },
  {
   "cell_type": "code",
   "execution_count": 23,
   "metadata": {},
   "outputs": [
    {
     "name": "stdout",
     "output_type": "stream",
     "text": [
      "(3000, 400)\n"
     ]
    },
    {
     "data": {
      "text/plain": [
       "array(['AACCG', 'AAATG', 'TCTTA', ..., 'GAAAC', 'AGTGA', 'CAATT'],\n",
       "      dtype='<U5')"
      ]
     },
     "metadata": {},
     "output_type": "display_data"
    },
    {
     "name": "stdout",
     "output_type": "stream",
     "text": [
      "here\n",
      "there\n",
      "20\n"
     ]
    },
    {
     "data": {
      "image/png": "[encoded data removed]",
      "text/plain": [
       "<Figure size 432x288 with 1 Axes>"
      ]
     },
     "metadata": {
      "needs_background": "light"
     },
     "output_type": "display_data"
    },
    {
     "name": "stdout",
     "output_type": "stream",
     "text": [
      "here\n",
      "there\n",
      "20\n"
     ]
    },
    {
     "data": {
      "image/png": "[encoded data removed]",
      "text/plain": [
       "<Figure size 432x288 with 1 Axes>"
      ]
     },
     "metadata": {
      "needs_background": "light"
     },
     "output_type": "display_data"
    }
   ],
   "source": [
    "DNA_length= sentence_length*N_people\n",
    "#make words strings.\n",
    "h_DNA = np.array([[''.join(h_DNA[i,j,:]) for i in range(h_DNA.shape[0]) ]for \n",
    "                  j in range(h_DNA.shape[1])])\n",
    "#make words strings.\n",
    "n_DNA = np.array([[''.join(n_DNA[i,j,:]) for i in range(n_DNA.shape[0]) ]for \n",
    "                  j in range(n_DNA.shape[1])])\n",
    "\n",
    "print(h_DNA.shape)\n",
    "\n",
    "h_DNA_check= h_DNA.reshape(DNA_length//word_length)\n",
    "n_DNA_check= n_DNA.reshape(DNA_length//word_length)\n",
    "display(h_DNA_check)\n",
    "h_DNA_check1=[]\n",
    "n_DNA_check1=[]\n",
    "\n",
    "##HUMAN\n",
    "print(\"here\")\n",
    "counts_h=dict(Counter(h_DNA_check).most_common(20))\n",
    "print(\"there\")\n",
    "labels_h, values_h = zip(*counts_h.items())\n",
    "\n",
    "#sort\n",
    "indsort_h = np.argsort(values_h)[::-1]\n",
    "\n",
    "#re_arrange\n",
    "labels_h= np.array(labels_h)[indsort_h]\n",
    "values_h= np.array(values_h)[indsort_h]\n",
    "indexes_h = np.arange(len(values_h))\n",
    "bar_width=0.2\n",
    "plt.bar(indexes_h, values_h)\n",
    "plt.xticks(indexes_h+bar_width,labels_h, rotation= 90)\n",
    "print(len(counts_h))\n",
    "\n",
    "plt.show()\n",
    "\n",
    "##NEANDERTHAL\n",
    "print(\"here\")\n",
    "counts_n=dict(Counter(n_DNA_check).most_common(20))\n",
    "print(\"there\")\n",
    "labels_n, values_n = zip(*counts_n.items())\n",
    "\n",
    "#sort\n",
    "indsort_n = np.argsort(values_n)[::-1]\n",
    "\n",
    "#re_arrange\n",
    "labels_n= np.array(labels_n)[indsort_n]\n",
    "values_n= np.array(values_n)[indsort_n]\n",
    "indexes_n = np.arange(len(values_n))\n",
    "bar_width=0.2\n",
    "plt.bar(indexes_n, values_n)\n",
    "plt.xticks(indexes_n+bar_width,labels_n, rotation= 90)\n",
    "print(len(counts_n))\n",
    "\n",
    "plt.show()"
   ]
  },
  {
   "cell_type": "code",
   "execution_count": 24,
   "metadata": {},
   "outputs": [
    {
     "name": "stdout",
     "output_type": "stream",
     "text": [
      "(4800, 400)\n",
      "4800\n",
      "1025\n"
     ]
    }
   ],
   "source": [
    "h_DNA_NN=[' '.join(h_DNA[i,:]) for i in range(h_DNA.shape[0])]\n",
    "n_DNA_NN=[' '.join(n_DNA[i,:]) for i in range(n_DNA.shape[0])]\n",
    "\n",
    "DNA_NN = h_DNA_NN+n_DNA_NN\n",
    "Y = [1]*len(h_DNA_NN)+[0]*len(n_DNA_NN)\n",
    "\n",
    "tokenizer = Tokenizer()\n",
    "tokenizer.fit_on_texts(DNA_NN)\n",
    "\n",
    "encoded_docs = tokenizer.texts_to_sequences(DNA_NN)\n",
    "max_length = max([len(s.split()) for s in DNA_NN])\n",
    "X = pad_sequences(encoded_docs, maxlen = max_length, padding = 'post')\n",
    "\n",
    "X_train, X_test, Y_train, Y_test = train_test_split(X, Y, test_size = 0.20, random_state = 42, shuffle = True)\n",
    "\n",
    "print(X_train.shape)\n",
    "print(len(Y_train))\n",
    "\n",
    "vocab_size = len(tokenizer.word_index) + 1\n",
    "print(vocab_size)"
   ]
  },
  {
   "cell_type": "code",
   "execution_count": 25,
   "metadata": {},
   "outputs": [
    {
     "name": "stderr",
     "output_type": "stream",
     "text": [
      "/home/ubuntu/anaconda3/lib/python3.7/site-packages/ipykernel_launcher.py:9: UserWarning: The `dropout` argument is no longer support in `Embedding`. You can apply a `keras.layers.SpatialDropout1D` layer right after the `Embedding` layer to get the same behavior.\n",
      "  if __name__ == '__main__':\n"
     ]
    },
    {
     "name": "stdout",
     "output_type": "stream",
     "text": [
      "Model: \"sequential_4\"\n",
      "_________________________________________________________________\n",
      "Layer (type)                 Output Shape              Param #   \n",
      "=================================================================\n",
      "embedding_4 (Embedding)      (None, 400, 32)           32800     \n",
      "_________________________________________________________________\n",
      "lstm_3 (LSTM)                (None, 10)                1720      \n",
      "_________________________________________________________________\n",
      "dense_5 (Dense)              (None, 5)                 55        \n",
      "_________________________________________________________________\n",
      "dense_6 (Dense)              (None, 1)                 6         \n",
      "=================================================================\n",
      "Total params: 34,581\n",
      "Trainable params: 34,581\n",
      "Non-trainable params: 0\n",
      "_________________________________________________________________\n",
      "None\n"
     ]
    }
   ],
   "source": [
    "from keras.models import Sequential\n",
    "from keras.callbacks import ModelCheckpoint\n",
    "from keras.optimizers import SGD, Adam, Adadelta, RMSprop\n",
    "from keras.layers import Conv1D, Dense, MaxPooling1D, Flatten, Dropout\n",
    "from keras.layers import Embedding, GlobalAveragePooling1D, LSTM, SimpleRNN, GRU\n",
    "from keras import regularizers\n",
    "\n",
    "model = Sequential()\n",
    "model.add(Embedding(vocab_size, 32, input_length = max_length, dropout = 0.2))\n",
    "#model.add(SimpleRNN(10, dropout = 0.2, recurrent_dropout = 0.2))  #this sucks\n",
    "model.add(LSTM(10, dropout = 0.2, recurrent_dropout = 0.2))  #totally killing it\n",
    "#model.add(Conv1D(10, dropout = 0.2, recurrent_dropout = 0.2)) \n",
    "\n",
    "model.add(Dense(5,\n",
    "                kernel_regularizer=regularizers.l2(0.01),\n",
    "                activity_regularizer=regularizers.l1(0.01)))\n",
    "model.add(Dense(1, activation = 'sigmoid'))\n",
    "\n",
    "\n",
    "model.compile(loss = 'binary_crossentropy', optimizer = 'rmsprop', metrics = ['accuracy'])\n",
    "checkpoint = ModelCheckpoint(\"weights.best.hdf5\", monitor = 'val_acc', verbose = 1, \n",
    "                             save_best_only = True, mode = 'max')\n",
    "print(model.summary())"
   ]
  },
  {
   "cell_type": "code",
   "execution_count": 26,
   "metadata": {},
   "outputs": [
    {
     "name": "stderr",
     "output_type": "stream",
     "text": [
      "/home/ubuntu/anaconda3/lib/python3.7/site-packages/tensorflow_core/python/framework/indexed_slices.py:433: UserWarning: Converting sparse IndexedSlices to a dense Tensor of unknown shape. This may consume a large amount of memory.\n",
      "  \"Converting sparse IndexedSlices to a dense Tensor of unknown shape. \"\n"
     ]
    },
    {
     "name": "stdout",
     "output_type": "stream",
     "text": [
      "Train on 3840 samples, validate on 960 samples\n",
      "Epoch 1/10\n",
      "3840/3840 [==============================] - 60s 16ms/step - loss: 0.7597 - accuracy: 0.5630 - val_loss: 0.7399 - val_accuracy: 0.5458\n",
      "Epoch 2/10\n"
     ]
    },
    {
     "name": "stderr",
     "output_type": "stream",
     "text": [
      "/home/ubuntu/anaconda3/lib/python3.7/site-packages/keras/callbacks/callbacks.py:707: RuntimeWarning: Can save best model only with val_acc available, skipping.\n",
      "  'skipping.' % (self.monitor), RuntimeWarning)\n"
     ]
    },
    {
     "name": "stdout",
     "output_type": "stream",
     "text": [
      "3840/3840 [==============================] - 60s 16ms/step - loss: 0.7272 - accuracy: 0.6091 - val_loss: 0.7164 - val_accuracy: 0.6802\n",
      "Epoch 3/10\n",
      "3840/3840 [==============================] - 60s 15ms/step - loss: 0.7086 - accuracy: 0.5852 - val_loss: 0.7022 - val_accuracy: 0.6833\n",
      "Epoch 4/10\n",
      "3840/3840 [==============================] - 58s 15ms/step - loss: 0.6985 - accuracy: 0.6411 - val_loss: 0.6957 - val_accuracy: 0.6781\n",
      "Epoch 5/10\n",
      "3840/3840 [==============================] - 57s 15ms/step - loss: 0.6943 - accuracy: 0.6521 - val_loss: 0.6941 - val_accuracy: 0.6635\n",
      "Epoch 6/10\n",
      "3840/3840 [==============================] - 57s 15ms/step - loss: 0.6927 - accuracy: 0.7529 - val_loss: 0.6958 - val_accuracy: 0.6823\n",
      "Epoch 7/10\n",
      "3840/3840 [==============================] - 57s 15ms/step - loss: 0.6863 - accuracy: 0.7719 - val_loss: 0.7028 - val_accuracy: 0.6750\n",
      "Epoch 8/10\n",
      "3840/3840 [==============================] - 57s 15ms/step - loss: 0.6747 - accuracy: 0.7844 - val_loss: 0.7189 - val_accuracy: 0.6375\n",
      "Epoch 9/10\n",
      "3840/3840 [==============================] - 56s 15ms/step - loss: 0.6621 - accuracy: 0.7932 - val_loss: 0.7246 - val_accuracy: 0.6646\n",
      "Epoch 10/10\n",
      "3840/3840 [==============================] - 54s 14ms/step - loss: 0.6498 - accuracy: 0.7984 - val_loss: 0.7338 - val_accuracy: 0.6406\n"
     ]
    }
   ],
   "source": [
    "epochs = 10\n",
    "history = model.fit(X_train, Y_train, \n",
    "                    epochs = epochs, verbose = 1, validation_split = 0.2, batch_size = 32, shuffle = True, \n",
    "                    callbacks = [checkpoint])"
   ]
  },
  {
   "cell_type": "code",
   "execution_count": 27,
   "metadata": {},
   "outputs": [
    {
     "data": {
      "image/png": "[encoded data removed]",
      "text/plain": [
       "<Figure size 432x288 with 2 Axes>"
      ]
     },
     "metadata": {
      "needs_background": "light"
     },
     "output_type": "display_data"
    }
   ],
   "source": [
    "from sklearn.metrics import confusion_matrix\n",
    "import matplotlib.pyplot as plt\n",
    "import itertools\n",
    "\n",
    "predicted_labels = model.predict(X_test)\n",
    "cm = confusion_matrix(Y_test, [np.round(i[0]) for i in predicted_labels])\n",
    "cm = cm.astype('float') / cm.sum(axis = 1)[:, np.newaxis]\n",
    "\n",
    "plt.imshow(cm, cmap = plt.cm.Blues)\n",
    "plt.title('Normalized confusion matrix', fontsize = 15)\n",
    "plt.colorbar()\n",
    "plt.xlabel('True label', fontsize = 15)\n",
    "plt.ylabel('Predicted label', fontsize = 15)\n",
    "for i, j in itertools.product(range(cm.shape[0]), range(cm.shape[1])):\n",
    "    plt.text(j, i, format(cm[i, j], '.2f'),\n",
    "             horizontalalignment = 'center', verticalalignment = 'center', fontsize = 20,\n",
    "             color='white' if cm[i, j] > 0.5 else 'black')\n",
    "plt.show()"
   ]
  },
  {
   "cell_type": "code",
   "execution_count": null,
   "metadata": {},
   "outputs": [],
   "source": []
  },
  {
   "cell_type": "code",
   "execution_count": null,
   "metadata": {},
   "outputs": [],
   "source": []
  },
  {
   "cell_type": "code",
   "execution_count": null,
   "metadata": {},
   "outputs": [],
   "source": []
  },
  {
   "cell_type": "code",
   "execution_count": null,
   "metadata": {},
   "outputs": [],
   "source": []
  }
 ],
 "metadata": {
  "kernelspec": {
   "display_name": "Python 3",
   "language": "python",
   "name": "python3"
  },
  "language_info": {
   "codemirror_mode": {
    "name": "ipython",
    "version": 3
   },
   "file_extension": ".py",
   "mimetype": "text/x-python",
   "name": "python",
   "nbconvert_exporter": "python",
   "pygments_lexer": "ipython3",
   "version": "3.7.6"
  }
 },
 "nbformat": 4,
 "nbformat_minor": 4
}
