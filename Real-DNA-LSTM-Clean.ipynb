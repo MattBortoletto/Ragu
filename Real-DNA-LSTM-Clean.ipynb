{
 "cells": [
  {
   "cell_type": "markdown",
   "metadata": {},
   "source": [
    "# LSTM on real DNA sequences\n",
    "\n",
    "# Leggi qui\n",
    "Nella parte prima di START HERE ho commentato le linee che non servono più perché ho già generato i file necessari, che puoi trovare nella mia cartella /ubuntu (non dovrebbero esserci problemi di permessi). "
   ]
  },
  {
   "cell_type": "code",
   "execution_count": 2,
   "metadata": {},
   "outputs": [],
   "source": [
    "import os\n",
    "import pandas as pd\n",
    "import seaborn as sns\n",
    "import matplotlib.pyplot as plt\n",
    "from scipy import stats\n",
    "import subprocess\n",
    "import numpy as np\n",
    "from Bio import SeqIO\n",
    "\n",
    "import tensorflow as tf\n",
    "\n",
    "from tensorflow.keras.preprocessing.text import Tokenizer\n",
    "from tensorflow.keras.preprocessing.sequence import pad_sequences\n",
    "from sklearn.feature_extraction.text import CountVectorizer\n",
    "from sklearn.feature_extraction.text import TfidfTransformer\n",
    "\n",
    "import warnings\n",
    "warnings.filterwarnings('ignore')\n",
    "\n",
    "from sklearn.model_selection import train_test_split\n",
    "\n",
    "from tensorflow.keras.models import Sequential\n",
    "from tensorflow.keras.callbacks import ModelCheckpoint\n",
    "from tensorflow.keras.optimizers import SGD, Adam, Adadelta, RMSprop\n",
    "from tensorflow.keras.layers import Conv1D, Dense, MaxPooling1D, Flatten, Dropout\n",
    "from tensorflow.keras.layers import Embedding, GlobalAveragePooling1D, LSTM, SimpleRNN, GRU\n",
    "\n",
    "from sklearn.metrics import confusion_matrix\n",
    "import matplotlib.pyplot as plt\n",
    "import itertools"
   ]
  },
  {
   "cell_type": "code",
   "execution_count": 3,
   "metadata": {},
   "outputs": [
    {
     "name": "stdout",
     "output_type": "stream",
     "text": [
      "Num GPUs Available:  1\n"
     ]
    }
   ],
   "source": [
    "print(\"Num GPUs Available: \", len(tf.config.experimental.list_physical_devices('GPU')))"
   ]
  },
  {
   "cell_type": "markdown",
   "metadata": {},
   "source": [
    "# START HERE\n",
    "\n",
    "Qui il codice commentato è perché volevo fare un po' di prove, quindi può essere cambiato a piacimento\n",
    "\n",
    "Attenzione perché la rete così com'è ci mette tanto ad allenarsi."
   ]
  },
  {
   "cell_type": "code",
   "execution_count": 4,
   "metadata": {},
   "outputs": [
    {
     "name": "stdout",
     "output_type": "stream",
     "text": [
      "Finished 20000 entries\n",
      "Finished 40000 entries\n",
      "Finished 60000 entries\n"
     ]
    }
   ],
   "source": [
    "intr_file = '../data/hg19_intr_clean.fa'\n",
    "depl_file = '../data/hg19_depl_clean.fa'\n",
    "\n",
    "e = 0\n",
    "intr_seqs = []\n",
    "depl_seqs = []\n",
    "for intr, depl in zip(SeqIO.parse(intr_file, 'fasta'), SeqIO.parse(depl_file, 'fasta')):\n",
    "    \n",
    "    step = 200; jump = 1; a = 0; b = step; n_jumps = 5\n",
    "    for j in range(n_jumps):\n",
    "        s_intr = str(intr.seq)[a:b]\n",
    "        s_depl = str(depl.seq)[a:b]\n",
    "        intr_seqs.append(s_intr)\n",
    "        depl_seqs.append(s_depl)\n",
    "        a = a + jump\n",
    "        b = a + step\n",
    "    \n",
    "    e = e + 1\n",
    "    if e%20000 == 0:\n",
    "        print('Finished ' + str(e) + ' entries')\n",
    "        \n",
    "def getKmers(sequence, size):\n",
    "    return [sequence[x:x+size].upper() for x in range(len(sequence) - size + 1)]\n",
    "\n",
    "kmer = 10\n",
    "intr_texts = [' '.join(getKmers(i, kmer)) for i in intr_seqs]\n",
    "depl_texts = [' '.join(getKmers(i, kmer)) for i in depl_seqs]"
   ]
  },
  {
   "cell_type": "code",
   "execution_count": 5,
   "metadata": {},
   "outputs": [
    {
     "data": {
      "text/plain": [
       "733640"
      ]
     },
     "execution_count": 5,
     "metadata": {},
     "output_type": "execute_result"
    }
   ],
   "source": [
    "merge_texts = intr_texts + depl_texts\n",
    "len(merge_texts)"
   ]
  },
  {
   "cell_type": "code",
   "execution_count": 7,
   "metadata": {},
   "outputs": [
    {
     "name": "stdout",
     "output_type": "stream",
     "text": [
      "G\n"
     ]
    }
   ],
   "source": [
    "print(merge_texts[0][0])"
   ]
  },
  {
   "cell_type": "code",
   "execution_count": 7,
   "metadata": {},
   "outputs": [
    {
     "name": "stdout",
     "output_type": "stream",
     "text": [
      "733640\n"
     ]
    }
   ],
   "source": [
    "labels = list(np.ones(len(intr_texts))) + list(np.zeros(len(depl_texts)))\n",
    "print(len(labels))"
   ]
  },
  {
   "cell_type": "code",
   "execution_count": 8,
   "metadata": {},
   "outputs": [
    {
     "name": "stdout",
     "output_type": "stream",
     "text": [
      "[[153634 568397 382160 ... 635443 506832 658088]\n",
      " [568397 382160 380712 ... 506832 658088 654350]\n",
      " [382160 380712 323461 ... 658088 654350 503434]\n",
      " ...\n",
      " [  1173    900    397 ...  64841  93299 115195]\n",
      " [   900    397    537 ...  93299 115195 135311]\n",
      " [   397    537   1117 ... 115195 135311  63747]]\n",
      "\n",
      "\n",
      "(733640, 191)\n"
     ]
    }
   ],
   "source": [
    "tokenizer = Tokenizer()\n",
    "tokenizer.fit_on_texts(merge_texts)\n",
    "\n",
    "encoded_docs = tokenizer.texts_to_sequences(merge_texts)\n",
    "max_length = max([len(s.split()) for s in merge_texts])\n",
    "X = pad_sequences(encoded_docs, maxlen = max_length, padding = 'post')\n",
    "\n",
    "print(X)\n",
    "print('\\n')\n",
    "print(X.shape)"
   ]
  },
  {
   "cell_type": "code",
   "execution_count": 9,
   "metadata": {},
   "outputs": [],
   "source": [
    "X_train, X_test, y_train, y_test = train_test_split(X, labels, test_size = 0.20, random_state = 42)"
   ]
  },
  {
   "cell_type": "code",
   "execution_count": 10,
   "metadata": {},
   "outputs": [
    {
     "name": "stdout",
     "output_type": "stream",
     "text": [
      "(586912, 191)\n",
      "(146728, 191)\n"
     ]
    }
   ],
   "source": [
    "print(X_train.shape)\n",
    "print(X_test.shape)\n",
    "y_train = np.asarray(y_train)\n",
    "y_test = np.asarray(y_test)"
   ]
  },
  {
   "cell_type": "code",
   "execution_count": 12,
   "metadata": {},
   "outputs": [
    {
     "name": "stdout",
     "output_type": "stream",
     "text": [
      "191\n"
     ]
    }
   ],
   "source": [
    "max_length = max([len(s.split()) for s in merge_texts])\n",
    "print(max_length)"
   ]
  },
  {
   "cell_type": "code",
   "execution_count": 13,
   "metadata": {},
   "outputs": [
    {
     "name": "stdout",
     "output_type": "stream",
     "text": [
      "944238\n"
     ]
    }
   ],
   "source": [
    "vocab_size = len(tokenizer.word_index) + 1\n",
    "print(vocab_size)"
   ]
  },
  {
   "cell_type": "code",
   "execution_count": 15,
   "metadata": {},
   "outputs": [
    {
     "name": "stdout",
     "output_type": "stream",
     "text": [
      "Model: \"sequential\"\n",
      "_________________________________________________________________\n",
      "Layer (type)                 Output Shape              Param #   \n",
      "=================================================================\n",
      "embedding (Embedding)        (None, None, 10)          9442380   \n",
      "_________________________________________________________________\n",
      "bidirectional (Bidirectional (None, 20)                1680      \n",
      "_________________________________________________________________\n",
      "dense (Dense)                (None, 10)                210       \n",
      "_________________________________________________________________\n",
      "dense_1 (Dense)              (None, 1)                 11        \n",
      "=================================================================\n",
      "Total params: 9,444,281\n",
      "Trainable params: 9,444,281\n",
      "Non-trainable params: 0\n",
      "_________________________________________________________________\n",
      "None\n"
     ]
    }
   ],
   "source": [
    "from tensorflow.keras.layers import Embedding, GlobalAveragePooling1D, LSTM, SimpleRNN, GRU, Bidirectional\n",
    "\n",
    "model = Sequential()\n",
    "model.add(Embedding(vocab_size, 10)) #dropout = 0.2 #input_length = max_length\n",
    "#model.add(Conv1D(filters = 16, kernel_size = 5, padding = 'same', activation = 'relu'))\n",
    "#model.add(MaxPooling1D(pool_size = 2))\n",
    "#model.add(LSTM(10)) #dropout = 0.2, recurrent_dropout = 0.2\n",
    "model.add(Bidirectional(LSTM(10))) #dropout = 0.2, recurrent_dropout = 0.2\n",
    "#model.add(Bidirectional(SimpleRNN(10)))\n",
    "#model.add(GRU(10))\n",
    "#model.add(SimpleRNN(10, dropout = 0.2, recurrent_dropout = 0.2))\n",
    "#model.add(Flatten())\n",
    "model.add(Dense(10, activation = 'relu'))\n",
    "model.add(Dense(1, activation = 'sigmoid'))\n",
    "\n",
    "epochs = 5\n",
    "model.compile(loss = 'binary_crossentropy', optimizer = 'rmsprop', metrics = ['accuracy'])\n",
    "#model.compile(loss = 'binary_crossentropy', optimizer = 'adam', metrics = ['accuracy'])\n",
    "#model.compile(loss = 'binary_crossentropy', optimizer = 'SGD', metrics = ['accuracy'])\n",
    "#model.compile(loss = 'binary_crossentropy', optimizer = RMSprop(lr = 0.0001), metrics = ['accuracy'])\n",
    "checkpoint = ModelCheckpoint(\"weights.best.hdf5\", monitor = 'val_acc', verbose = 1, \n",
    "                             save_best_only = True, mode = 'max')\n",
    "print(model.summary())"
   ]
  },
  {
   "cell_type": "code",
   "execution_count": 16,
   "metadata": {},
   "outputs": [
    {
     "name": "stdout",
     "output_type": "stream",
     "text": [
      "Train on 469529 samples, validate on 117383 samples\n",
      "Epoch 1/5\n",
      "469504/469529 [============================>.] - ETA: 0s - loss: 0.2456 - accuracy: 0.8789WARNING:tensorflow:Can save best model only with val_acc available, skipping.\n",
      "469529/469529 [==============================] - 1922s 4ms/sample - loss: 0.2456 - accuracy: 0.8789 - val_loss: 0.0707 - val_accuracy: 0.9726\n",
      "Epoch 2/5\n",
      "469504/469529 [============================>.] - ETA: 0s - loss: 0.0248 - accuracy: 0.9912WARNING:tensorflow:Can save best model only with val_acc available, skipping.\n",
      "469529/469529 [==============================] - 1910s 4ms/sample - loss: 0.0248 - accuracy: 0.9912 - val_loss: 0.0316 - val_accuracy: 0.9891\n",
      "Epoch 3/5\n",
      "469504/469529 [============================>.] - ETA: 0s - loss: 0.0067 - accuracy: 0.9979WARNING:tensorflow:Can save best model only with val_acc available, skipping.\n",
      "469529/469529 [==============================] - 1900s 4ms/sample - loss: 0.0067 - accuracy: 0.9979 - val_loss: 0.0234 - val_accuracy: 0.9938\n",
      "Epoch 4/5\n",
      "469504/469529 [============================>.] - ETA: 0s - loss: 0.0026 - accuracy: 0.9994WARNING:tensorflow:Can save best model only with val_acc available, skipping.\n",
      "469529/469529 [==============================] - 1919s 4ms/sample - loss: 0.0026 - accuracy: 0.9994 - val_loss: 0.0225 - val_accuracy: 0.9961\n",
      "Epoch 5/5\n",
      "469504/469529 [============================>.] - ETA: 0s - loss: 0.0010 - accuracy: 0.9998WARNING:tensorflow:Can save best model only with val_acc available, skipping.\n",
      "469529/469529 [==============================] - 1940s 4ms/sample - loss: 0.0010 - accuracy: 0.9998 - val_loss: 0.0377 - val_accuracy: 0.9967\n"
     ]
    }
   ],
   "source": [
    "history = model.fit(X_train, y_train, \n",
    "                    epochs = epochs, verbose = 1, validation_split = 0.2, batch_size = 32, shuffle = True, \n",
    "                    callbacks = [checkpoint])"
   ]
  },
  {
   "cell_type": "code",
   "execution_count": 17,
   "metadata": {},
   "outputs": [
    {
     "name": "stdout",
     "output_type": "stream",
     "text": [
      "Confusion matrix:\n",
      " [[73108   250]\n",
      " [  236 73134]]\n"
     ]
    },
    {
     "data": {
      "image/png": "[encoded data removed]",
      "text/plain": [
       "<Figure size 1080x720 with 2 Axes>"
      ]
     },
     "metadata": {
      "needs_background": "light"
     },
     "output_type": "display_data"
    }
   ],
   "source": [
    "plt.figure(figsize = (15,10))\n",
    "\n",
    "predicted_labels = model.predict(X_test)\n",
    "cm = confusion_matrix(y_test, [np.round(i[0]) for i in predicted_labels])\n",
    "print('Confusion matrix:\\n',cm)\n",
    "\n",
    "cm = cm.astype('float') / cm.sum(axis = 1)[:, np.newaxis]\n",
    "\n",
    "plt.imshow(cm, cmap = plt.cm.Blues)\n",
    "plt.title('Normalized confusion matrix', fontsize = 20)\n",
    "plt.colorbar()\n",
    "plt.xlabel('True label', fontsize = 20)\n",
    "plt.ylabel('Predicted label', fontsize = 20)\n",
    "for i, j in itertools.product(range(cm.shape[0]), range(cm.shape[1])):\n",
    "    plt.text(j, i, format(cm[i, j], '.2f'),\n",
    "             horizontalalignment = 'center', verticalalignment = 'center', fontsize = 20,\n",
    "             color='white' if cm[i, j] > 0.5 else 'black')\n",
    "plt.show()"
   ]
  },
  {
   "cell_type": "code",
   "execution_count": 18,
   "metadata": {},
   "outputs": [
    {
     "name": "stdout",
     "output_type": "stream",
     "text": [
      "Accuracy: 99.67%\n"
     ]
    }
   ],
   "source": [
    "scores = model.evaluate(X_test, y_test, verbose = 0)\n",
    "print(\"Accuracy: %.2f%%\" % (scores[1]*100))"
   ]
  },
  {
   "cell_type": "code",
   "execution_count": null,
   "metadata": {},
   "outputs": [],
   "source": []
  }
 ],
 "metadata": {
  "kernelspec": {
   "display_name": "Python 3",
   "language": "python",
   "name": "python3"
  },
  "language_info": {
   "codemirror_mode": {
    "name": "ipython",
    "version": 3
   },
   "file_extension": ".py",
   "mimetype": "text/x-python",
   "name": "python",
   "nbconvert_exporter": "python",
   "pygments_lexer": "ipython3",
   "version": "3.7.6"
  }
 },
 "nbformat": 4,
 "nbformat_minor": 4
}
