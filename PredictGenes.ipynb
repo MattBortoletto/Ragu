{
 "cells": [
  {
   "cell_type": "code",
   "execution_count": 1,
   "metadata": {},
   "outputs": [
    {
     "name": "stdout",
     "output_type": "stream",
     "text": [
      "Finished 10000 genes\n",
      "Finished 20000 genes\n",
      "Finished 30000 genes\n"
     ]
    }
   ],
   "source": [
    "from Bio import SeqIO\n",
    "\n",
    "gene_file = 'hg19_gene_clean.fa'\n",
    "\n",
    "e = 0\n",
    "gene_seqs = []\n",
    "gene_ids = []\n",
    "for gene in SeqIO.parse('/home/ubuntu/data/' + gene_file, \n",
    "                        'fasta'):\n",
    "    \n",
    "    cutoff = 200\n",
    "    if len(str(gene.seq)) < cutoff:\n",
    "        continue\n",
    "\n",
    "    gene_ids.append(str(gene.id))\n",
    "    s_gene = str(gene.seq)[0:cutoff]\n",
    "    gene_seqs.append(s_gene)\n",
    "\n",
    "    e = e + 1\n",
    "    if e%10000 == 0:\n",
    "        print('Finished ' + str(e) + ' genes')\n",
    "\n",
    "def getKmers(sequence, size):\n",
    "    return [sequence[x:x+size].upper() for x in range(len(sequence) - size + 1)]\n",
    "\n",
    "kmer = 10\n",
    "gene_texts = [' '.join(getKmers(i, kmer)) for i in gene_seqs]"
   ]
  },
  {
   "cell_type": "code",
   "execution_count": 2,
   "metadata": {},
   "outputs": [
    {
     "name": "stderr",
     "output_type": "stream",
     "text": [
      "Using TensorFlow backend.\n"
     ]
    },
    {
     "name": "stdout",
     "output_type": "stream",
     "text": [
      "[[547859 642875 642876 ... 125875 110809  77277]\n",
      " [253351 294309 164774 ...  31487 125876 218639]\n",
      " [164781  61751 110810 ... 253371 218650 294330]\n",
      " ...\n",
      " [300782 349547 453994 ...  14457  10644  10929]\n",
      " [ 63780 142785 252925 ...  53054 543738 324349]\n",
      " [273128 360570 109937 ... 219163  82309 120347]]\n",
      "\n",
      "\n",
      "(35549, 191)\n"
     ]
    }
   ],
   "source": [
    "from keras.preprocessing.text import Tokenizer\n",
    "from keras.preprocessing.sequence import pad_sequences\n",
    "from sklearn.feature_extraction.text import CountVectorizer\n",
    "from sklearn.feature_extraction.text import TfidfTransformer\n",
    "\n",
    "import warnings\n",
    "warnings.filterwarnings('ignore')\n",
    "\n",
    "tokenizer = Tokenizer()\n",
    "tokenizer.fit_on_texts(gene_texts)\n",
    "\n",
    "encoded_docs = tokenizer.texts_to_sequences(gene_texts)\n",
    "max_length = max([len(s.split()) for s in gene_texts])\n",
    "X_gene = pad_sequences(encoded_docs, maxlen = max_length, padding = 'post')\n",
    "\n",
    "print(X_gene)\n",
    "print('\\n')\n",
    "print(X_gene.shape)"
   ]
  },
  {
   "cell_type": "code",
   "execution_count": 3,
   "metadata": {},
   "outputs": [
    {
     "name": "stdout",
     "output_type": "stream",
     "text": [
      "891013\n"
     ]
    }
   ],
   "source": [
    "vocab_size = len(tokenizer.word_index) + 1\n",
    "print(vocab_size)"
   ]
  },
  {
   "cell_type": "code",
   "execution_count": 4,
   "metadata": {},
   "outputs": [
    {
     "name": "stdout",
     "output_type": "stream",
     "text": [
      "Model: \"sequential\"\n",
      "_________________________________________________________________\n",
      "Layer (type)                 Output Shape              Param #   \n",
      "=================================================================\n",
      "embedding (Embedding)        (None, None, 10)          9442380   \n",
      "_________________________________________________________________\n",
      "bidirectional (Bidirectional (None, 20)                1680      \n",
      "_________________________________________________________________\n",
      "dense (Dense)                (None, 10)                210       \n",
      "_________________________________________________________________\n",
      "dense_1 (Dense)              (None, 1)                 11        \n",
      "=================================================================\n",
      "Total params: 9,444,281\n",
      "Trainable params: 9,444,281\n",
      "Non-trainable params: 0\n",
      "_________________________________________________________________\n"
     ]
    }
   ],
   "source": [
    "from tensorflow.keras.models import Sequential\n",
    "from tensorflow.keras.callbacks import ModelCheckpoint\n",
    "from tensorflow.keras.optimizers import SGD, Adam, Adadelta\n",
    "from tensorflow.keras.layers import Conv1D, LSTM, Dense, MaxPooling1D, Flatten, Dropout, Embedding, Activation, Bidirectional\n",
    "\n",
    "model = Sequential()\n",
    "model.add(Embedding(944238, 10))\n",
    "model.add(Bidirectional(LSTM(10)))\n",
    "model.add(Dense(10, activation = 'relu'))\n",
    "model.add(Dense(1, activation = 'sigmoid'))\n",
    "\n",
    "model.load_weights(\"LSTM.weights.best.hdf5\")\n",
    "model.compile(loss = 'binary_crossentropy', optimizer = 'rmsprop', metrics = ['accuracy'])\n",
    "model.summary()"
   ]
  },
  {
   "cell_type": "code",
   "execution_count": 5,
   "metadata": {},
   "outputs": [],
   "source": [
    "gene_predictions = model.predict_classes(X_gene)\n",
    "gene_predictions_prob = model.predict_proba(X_gene)"
   ]
  },
  {
   "cell_type": "code",
   "execution_count": 6,
   "metadata": {},
   "outputs": [
    {
     "data": {
      "text/plain": [
       "(35549, 191)"
      ]
     },
     "execution_count": 6,
     "metadata": {},
     "output_type": "execute_result"
    }
   ],
   "source": [
    "X_gene.shape"
   ]
  },
  {
   "cell_type": "code",
   "execution_count": 15,
   "metadata": {},
   "outputs": [
    {
     "data": {
      "text/plain": [
       "array([[0],\n",
       "       [1],\n",
       "       [1],\n",
       "       [1],\n",
       "       [1],\n",
       "       [0],\n",
       "       [1],\n",
       "       [0],\n",
       "       [0],\n",
       "       [0]], dtype=int32)"
      ]
     },
     "execution_count": 15,
     "metadata": {},
     "output_type": "execute_result"
    }
   ],
   "source": [
    "gene_predictions[:10]"
   ]
  },
  {
   "cell_type": "code",
   "execution_count": 14,
   "metadata": {},
   "outputs": [
    {
     "data": {
      "text/plain": [
       "array([[2.2742575e-01],\n",
       "       [9.9997020e-01],\n",
       "       [9.9474698e-01],\n",
       "       [9.9999785e-01],\n",
       "       [9.9999785e-01],\n",
       "       [5.9222716e-09],\n",
       "       [9.9987686e-01],\n",
       "       [2.4735549e-04],\n",
       "       [5.9581845e-07],\n",
       "       [5.9581845e-07]], dtype=float32)"
      ]
     },
     "execution_count": 14,
     "metadata": {},
     "output_type": "execute_result"
    }
   ],
   "source": [
    "gene_predictions_prob[:10]"
   ]
  },
  {
   "cell_type": "code",
   "execution_count": 9,
   "metadata": {},
   "outputs": [
    {
     "data": {
      "text/html": [
       "<div>\n",
       "<style scoped>\n",
       "    .dataframe tbody tr th:only-of-type {\n",
       "        vertical-align: middle;\n",
       "    }\n",
       "\n",
       "    .dataframe tbody tr th {\n",
       "        vertical-align: top;\n",
       "    }\n",
       "\n",
       "    .dataframe thead th {\n",
       "        text-align: right;\n",
       "    }\n",
       "</style>\n",
       "<table border=\"1\" class=\"dataframe\">\n",
       "  <thead>\n",
       "    <tr style=\"text-align: right;\">\n",
       "      <th></th>\n",
       "      <th>Gene</th>\n",
       "      <th>Predict</th>\n",
       "      <th>Prob</th>\n",
       "    </tr>\n",
       "  </thead>\n",
       "  <tbody>\n",
       "    <tr>\n",
       "      <th>6191</th>\n",
       "      <td>chr11:89657232-89666229</td>\n",
       "      <td>1</td>\n",
       "      <td>1.000000</td>\n",
       "    </tr>\n",
       "    <tr>\n",
       "      <th>18041</th>\n",
       "      <td>chr2:190628585-190648719</td>\n",
       "      <td>1</td>\n",
       "      <td>1.000000</td>\n",
       "    </tr>\n",
       "    <tr>\n",
       "      <th>14403</th>\n",
       "      <td>chr19:1952526-1954548</td>\n",
       "      <td>1</td>\n",
       "      <td>1.000000</td>\n",
       "    </tr>\n",
       "    <tr>\n",
       "      <th>26601</th>\n",
       "      <td>chr6:35762759-35765100</td>\n",
       "      <td>1</td>\n",
       "      <td>1.000000</td>\n",
       "    </tr>\n",
       "    <tr>\n",
       "      <th>875</th>\n",
       "      <td>chr1:45097640-45117395</td>\n",
       "      <td>1</td>\n",
       "      <td>1.000000</td>\n",
       "    </tr>\n",
       "    <tr>\n",
       "      <th>...</th>\n",
       "      <td>...</td>\n",
       "      <td>...</td>\n",
       "      <td>...</td>\n",
       "    </tr>\n",
       "    <tr>\n",
       "      <th>7060</th>\n",
       "      <td>chr12:11090853-11091806</td>\n",
       "      <td>1</td>\n",
       "      <td>0.802003</td>\n",
       "    </tr>\n",
       "    <tr>\n",
       "      <th>34681</th>\n",
       "      <td>chrX:101967376-102008468</td>\n",
       "      <td>1</td>\n",
       "      <td>0.801439</td>\n",
       "    </tr>\n",
       "    <tr>\n",
       "      <th>34679</th>\n",
       "      <td>chrX:101967376-101972661</td>\n",
       "      <td>1</td>\n",
       "      <td>0.801439</td>\n",
       "    </tr>\n",
       "    <tr>\n",
       "      <th>34680</th>\n",
       "      <td>chrX:101967376-101979789</td>\n",
       "      <td>1</td>\n",
       "      <td>0.801439</td>\n",
       "    </tr>\n",
       "    <tr>\n",
       "      <th>1308</th>\n",
       "      <td>chr1:95628775-95699538</td>\n",
       "      <td>1</td>\n",
       "      <td>0.801225</td>\n",
       "    </tr>\n",
       "  </tbody>\n",
       "</table>\n",
       "<p>9626 rows × 3 columns</p>\n",
       "</div>"
      ],
      "text/plain": [
       "                           Gene  Predict      Prob\n",
       "6191    chr11:89657232-89666229        1  1.000000\n",
       "18041  chr2:190628585-190648719        1  1.000000\n",
       "14403     chr19:1952526-1954548        1  1.000000\n",
       "26601    chr6:35762759-35765100        1  1.000000\n",
       "875      chr1:45097640-45117395        1  1.000000\n",
       "...                         ...      ...       ...\n",
       "7060    chr12:11090853-11091806        1  0.802003\n",
       "34681  chrX:101967376-102008468        1  0.801439\n",
       "34679  chrX:101967376-101972661        1  0.801439\n",
       "34680  chrX:101967376-101979789        1  0.801439\n",
       "1308     chr1:95628775-95699538        1  0.801225\n",
       "\n",
       "[9626 rows x 3 columns]"
      ]
     },
     "execution_count": 9,
     "metadata": {},
     "output_type": "execute_result"
    }
   ],
   "source": [
    "import pandas as pd\n",
    "gene_pred_df = pd.DataFrame({'Gene': gene_ids, \n",
    "                             'Predict': list(gene_predictions.flatten()), \n",
    "                             'Prob': list(gene_predictions_prob.flatten())})\n",
    "gene_pred_df = gene_pred_df.sort_values(['Prob'], ascending = False)\n",
    "gene_pred_df[(gene_pred_df['Predict'] == 1) & (gene_pred_df['Prob'] > 0.8)]"
   ]
  },
  {
   "cell_type": "code",
   "execution_count": 17,
   "metadata": {},
   "outputs": [
    {
     "data": {
      "text/html": [
       "<div>\n",
       "<style scoped>\n",
       "    .dataframe tbody tr th:only-of-type {\n",
       "        vertical-align: middle;\n",
       "    }\n",
       "\n",
       "    .dataframe tbody tr th {\n",
       "        vertical-align: top;\n",
       "    }\n",
       "\n",
       "    .dataframe thead th {\n",
       "        text-align: right;\n",
       "    }\n",
       "</style>\n",
       "<table border=\"1\" class=\"dataframe\">\n",
       "  <thead>\n",
       "    <tr style=\"text-align: right;\">\n",
       "      <th></th>\n",
       "      <th>Gene</th>\n",
       "      <th>Predict</th>\n",
       "      <th>Prob</th>\n",
       "    </tr>\n",
       "  </thead>\n",
       "  <tbody>\n",
       "    <tr>\n",
       "      <th>6191</th>\n",
       "      <td>chr11:89657232-89666229</td>\n",
       "      <td>1</td>\n",
       "      <td>1.0</td>\n",
       "    </tr>\n",
       "    <tr>\n",
       "      <th>18041</th>\n",
       "      <td>chr2:190628585-190648719</td>\n",
       "      <td>1</td>\n",
       "      <td>1.0</td>\n",
       "    </tr>\n",
       "    <tr>\n",
       "      <th>14403</th>\n",
       "      <td>chr19:1952526-1954548</td>\n",
       "      <td>1</td>\n",
       "      <td>1.0</td>\n",
       "    </tr>\n",
       "    <tr>\n",
       "      <th>26601</th>\n",
       "      <td>chr6:35762759-35765100</td>\n",
       "      <td>1</td>\n",
       "      <td>1.0</td>\n",
       "    </tr>\n",
       "    <tr>\n",
       "      <th>875</th>\n",
       "      <td>chr1:45097640-45117395</td>\n",
       "      <td>1</td>\n",
       "      <td>1.0</td>\n",
       "    </tr>\n",
       "    <tr>\n",
       "      <th>26602</th>\n",
       "      <td>chr6:35762759-35765121</td>\n",
       "      <td>1</td>\n",
       "      <td>1.0</td>\n",
       "    </tr>\n",
       "    <tr>\n",
       "      <th>23619</th>\n",
       "      <td>chr4:140211071-140223705</td>\n",
       "      <td>1</td>\n",
       "      <td>1.0</td>\n",
       "    </tr>\n",
       "    <tr>\n",
       "      <th>33536</th>\n",
       "      <td>chr9:134305477-134375575</td>\n",
       "      <td>1</td>\n",
       "      <td>1.0</td>\n",
       "    </tr>\n",
       "    <tr>\n",
       "      <th>8252</th>\n",
       "      <td>chr12:109886460-109915105</td>\n",
       "      <td>1</td>\n",
       "      <td>1.0</td>\n",
       "    </tr>\n",
       "    <tr>\n",
       "      <th>26606</th>\n",
       "      <td>chr6:35911291-35992277</td>\n",
       "      <td>1</td>\n",
       "      <td>1.0</td>\n",
       "    </tr>\n",
       "  </tbody>\n",
       "</table>\n",
       "</div>"
      ],
      "text/plain": [
       "                            Gene  Predict  Prob\n",
       "6191     chr11:89657232-89666229        1   1.0\n",
       "18041   chr2:190628585-190648719        1   1.0\n",
       "14403      chr19:1952526-1954548        1   1.0\n",
       "26601     chr6:35762759-35765100        1   1.0\n",
       "875       chr1:45097640-45117395        1   1.0\n",
       "26602     chr6:35762759-35765121        1   1.0\n",
       "23619   chr4:140211071-140223705        1   1.0\n",
       "33536   chr9:134305477-134375575        1   1.0\n",
       "8252   chr12:109886460-109915105        1   1.0\n",
       "26606     chr6:35911291-35992277        1   1.0"
      ]
     },
     "execution_count": 17,
     "metadata": {},
     "output_type": "execute_result"
    }
   ],
   "source": [
    "gene_pred_df[(gene_pred_df['Predict'] == 1) & (gene_pred_df['Prob'] > 0.8)].head(10)"
   ]
  },
  {
   "cell_type": "code",
   "execution_count": null,
   "metadata": {},
   "outputs": [],
   "source": []
  }
 ],
 "metadata": {
  "kernelspec": {
   "display_name": "Python 3",
   "language": "python",
   "name": "python3"
  },
  "language_info": {
   "codemirror_mode": {
    "name": "ipython",
    "version": 3
   },
   "file_extension": ".py",
   "mimetype": "text/x-python",
   "name": "python",
   "nbconvert_exporter": "python",
   "pygments_lexer": "ipython3",
   "version": "3.7.6"
  }
 },
 "nbformat": 4,
 "nbformat_minor": 4
}
