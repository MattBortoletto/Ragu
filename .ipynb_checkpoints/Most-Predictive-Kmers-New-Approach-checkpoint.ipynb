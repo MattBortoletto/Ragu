{
 "cells": [
  {
   "cell_type": "code",
   "execution_count": 2,
   "metadata": {},
   "outputs": [],
   "source": [
    "import os\n",
    "import pandas as pd\n",
    "import seaborn as sns\n",
    "import matplotlib.pyplot as plt\n",
    "from scipy import stats\n",
    "import subprocess\n",
    "import numpy as np\n",
    "from Bio import SeqIO\n",
    "\n",
    "import tensorflow as tf\n",
    "\n",
    "from tensorflow.keras.preprocessing.text import Tokenizer\n",
    "from tensorflow.keras.preprocessing.sequence import pad_sequences\n",
    "from sklearn.feature_extraction.text import CountVectorizer\n",
    "from sklearn.feature_extraction.text import TfidfTransformer\n",
    "\n",
    "import warnings\n",
    "warnings.filterwarnings('ignore')\n",
    "\n",
    "from sklearn.model_selection import train_test_split\n",
    "\n",
    "from tensorflow.keras.models import Sequential\n",
    "from tensorflow.keras.callbacks import ModelCheckpoint\n",
    "from tensorflow.keras.optimizers import SGD, Adam, Adadelta, RMSprop\n",
    "from tensorflow.keras.layers import Conv1D, Dense, MaxPooling1D, Flatten, Dropout\n",
    "from tensorflow.keras.layers import Embedding, GlobalAveragePooling1D, LSTM, SimpleRNN, GRU\n",
    "\n",
    "from sklearn.metrics import confusion_matrix\n",
    "import matplotlib.pyplot as plt\n",
    "import itertools"
   ]
  },
  {
   "cell_type": "code",
   "execution_count": 17,
   "metadata": {},
   "outputs": [
    {
     "name": "stdout",
     "output_type": "stream",
     "text": [
      "Finished 10000 entries\n",
      "Finished 20000 entries\n",
      "Finished 30000 entries\n",
      "Finished 40000 entries\n",
      "Finished 50000 entries\n",
      "Finished 60000 entries\n",
      "Finished 70000 entries\n"
     ]
    }
   ],
   "source": [
    "intr_file = '../data/hg19_intr_clean.fa'\n",
    "depl_file = '../data/hg19_depl_clean.fa'\n",
    "\n",
    "e = 0\n",
    "intr_seqs = []\n",
    "depl_seqs = []\n",
    "for intr, depl in zip(SeqIO.parse(intr_file, 'fasta'), SeqIO.parse(depl_file, 'fasta')):\n",
    "    \n",
    "    step = 200; jump = 1; a = 0; b = step; n_jumps = 5\n",
    "    for j in range(n_jumps):\n",
    "        s_intr = str(intr.seq)[a:b]\n",
    "        s_depl = str(depl.seq)[a:b]\n",
    "        intr_seqs.append(s_intr)\n",
    "        depl_seqs.append(s_depl)\n",
    "        a = a + jump\n",
    "        b = a + step\n",
    "    \n",
    "    e = e + 1\n",
    "    if e%10000 == 0:\n",
    "        print('Finished ' + str(e) + ' entries')\n",
    "        \n",
    "def getKmers(sequence, size):\n",
    "    return [sequence[x:x+size].upper() for x in range(len(sequence) - size + 1)]\n",
    "    \n",
    "kmer = 10\n",
    "\n",
    "intr_texts = [' '.join(getKmers(i, kmer)) for i in intr_seqs]\n",
    "depl_texts = [' '.join(getKmers(i, kmer)) for i in depl_seqs]"
   ]
  },
  {
   "cell_type": "code",
   "execution_count": 3,
   "metadata": {},
   "outputs": [
    {
     "data": {
      "text/plain": [
       "733640"
      ]
     },
     "execution_count": 3,
     "metadata": {},
     "output_type": "execute_result"
    }
   ],
   "source": [
    "merge_texts = intr_texts + depl_texts\n",
    "len(merge_texts)"
   ]
  },
  {
   "cell_type": "code",
   "execution_count": 4,
   "metadata": {},
   "outputs": [
    {
     "name": "stdout",
     "output_type": "stream",
     "text": [
      "733640\n"
     ]
    }
   ],
   "source": [
    "labels = list(np.ones(len(intr_texts))) + list(np.zeros(len(depl_texts)))\n",
    "print(len(labels))"
   ]
  },
  {
   "cell_type": "code",
   "execution_count": 5,
   "metadata": {},
   "outputs": [
    {
     "name": "stdout",
     "output_type": "stream",
     "text": [
      "[[153634 568397 382160 ... 635443 506832 658088]\n",
      " [568397 382160 380712 ... 506832 658088 654350]\n",
      " [382160 380712 323461 ... 658088 654350 503434]\n",
      " ...\n",
      " [  1173    900    397 ...  64841  93299 115195]\n",
      " [   900    397    537 ...  93299 115195 135311]\n",
      " [   397    537   1117 ... 115195 135311  63747]]\n",
      "\n",
      "\n",
      "(733640, 191)\n"
     ]
    }
   ],
   "source": [
    "tokenizer = Tokenizer()\n",
    "tokenizer.fit_on_texts(merge_texts)\n",
    "\n",
    "encoded_docs = tokenizer.texts_to_sequences(merge_texts)\n",
    "max_length = max([len(s.split()) for s in merge_texts])\n",
    "X = pad_sequences(encoded_docs, maxlen = max_length, padding = 'post')\n",
    "\n",
    "print(X)\n",
    "print('\\n')\n",
    "print(X.shape)"
   ]
  },
  {
   "cell_type": "code",
   "execution_count": 6,
   "metadata": {},
   "outputs": [],
   "source": [
    "X_train, X_test, y_train, y_test = train_test_split(X, labels, test_size = 0.20, random_state = 42)"
   ]
  },
  {
   "cell_type": "code",
   "execution_count": 7,
   "metadata": {},
   "outputs": [],
   "source": [
    "X_train1 = X_train[:200000]\n",
    "X_test1 = X_test[:5000]\n",
    "y_train1 = y_train[:200000]\n",
    "y_test1 = y_test[:5000]"
   ]
  },
  {
   "cell_type": "code",
   "execution_count": 8,
   "metadata": {},
   "outputs": [
    {
     "name": "stdout",
     "output_type": "stream",
     "text": [
      "191\n",
      "944238\n"
     ]
    }
   ],
   "source": [
    "max_length = max([len(s.split()) for s in merge_texts])\n",
    "print(max_length)\n",
    "\n",
    "vocab_size = len(tokenizer.word_index) + 1\n",
    "print(vocab_size)"
   ]
  },
  {
   "cell_type": "code",
   "execution_count": 11,
   "metadata": {},
   "outputs": [
    {
     "name": "stdout",
     "output_type": "stream",
     "text": [
      "Model: \"sequential_1\"\n",
      "_________________________________________________________________\n",
      "Layer (type)                 Output Shape              Param #   \n",
      "=================================================================\n",
      "embedding_1 (Embedding)      (None, None, 10)          9442380   \n",
      "_________________________________________________________________\n",
      "bidirectional_1 (Bidirection (None, 20)                1680      \n",
      "_________________________________________________________________\n",
      "dense (Dense)                (None, 10)                210       \n",
      "_________________________________________________________________\n",
      "dense_1 (Dense)              (None, 1)                 11        \n",
      "=================================================================\n",
      "Total params: 9,444,281\n",
      "Trainable params: 9,444,281\n",
      "Non-trainable params: 0\n",
      "_________________________________________________________________\n"
     ]
    }
   ],
   "source": [
    "from tensorflow.keras.layers import Embedding, GlobalAveragePooling1D, LSTM, SimpleRNN, GRU, Bidirectional\n",
    "from tensorflow.keras import  Sequential\n",
    "\n",
    "model = Sequential()\n",
    "model.add(Embedding(vocab_size, 10))\n",
    "model.add(Bidirectional(LSTM(10)))\n",
    "model.add(Dense(10, activation = 'relu'))\n",
    "model.add(Dense(1, activation = 'sigmoid'))\n",
    "\n",
    "model.load_weights(\"LSTM.weights.best.hdf5\")\n",
    "model.compile(loss = 'binary_crossentropy', optimizer = 'rmsprop', metrics = ['accuracy'])\n",
    "model.summary()"
   ]
  },
  {
   "cell_type": "markdown",
   "metadata": {},
   "source": [
    "The following code is commented because it takes a lot of time, so we saved the results in a txt file."
   ]
  },
  {
   "cell_type": "code",
   "execution_count": 12,
   "metadata": {},
   "outputs": [
    {
     "name": "stdout",
     "output_type": "stream",
     "text": [
      " iteration  190  : perturbated res =  0.9946 saved value =  0.0054000020027160645\n",
      "Debug print\n",
      "[174759  66253  68964 134604  68334 128556 160936 148981 431370 122895]\n",
      "[174759  66253  68964 134604  68334 128556 160936 148981 431370 122895]\n",
      "(5000, 191)\n"
     ]
    },
    {
     "data": {
      "image/png": "[encoded data removed]",
      "text/plain": [
       "<Figure size 432x288 with 1 Axes>"
      ]
     },
     "metadata": {
      "needs_background": "light"
     },
     "output_type": "display_data"
    }
   ],
   "source": [
    "\"\"\"import tensorflow.keras\n",
    "from IPython.display import clear_output\n",
    "\n",
    "prts=[10] \n",
    "\n",
    "for prt in prts: \n",
    "    diffs=np.zeros((200-prt+1))\n",
    "    for i in range(200-prt+1): \n",
    "        print(i , \"/\", X_test1.shape[1])\n",
    "        X_eva_test=np.array(X_test1)\n",
    "        \n",
    "        reverse_word_map = pd.Series(dict(map(reversed, tokenizer.word_index.items()))) # inverted tokenizer\n",
    "        X_tmp0=np.array(reverse_word_map[X_eva_test.reshape(X_eva_test.shape[0]*X_eva_test.shape[1])]).reshape(\n",
    "            X_eva_test.shape[0],X_eva_test.shape[1]) # coverti tutto in kmers, serve aggiustare la shape\n",
    "\n",
    "        X_tmp0=X_tmp0[:,range(0,X_tmp0.shape[1],kmer)]  # becca solo kmer che non overlap\n",
    "        X_tmp0=np.array(list(np.sum(np.sum(X_tmp0,axis=1), axis=0))).reshape(X_tmp0.shape[0], 200) \n",
    "        #qua otteniamo una matrice di Nx200 nucleotidi\n",
    "        \n",
    "        range_helper=[k for k in range(0,X_tmp0.shape[0])]\n",
    "        np.random.shuffle(range_helper) # shuffle\n",
    "        X_tmp0[:,i:i+prt]=X_tmp0[range_helper,i:i+prt] # applica shuffle\n",
    "        X_tmp0=[''.join(X_tmp0[j,:]) for j in range(X_tmp0.shape[0])] # recupera sequenza nucleotidi\n",
    "        X_tmp0=[' '.join(getKmers(seq,kmer)) for seq in X_tmp0] # recupera sequenza kmers\n",
    "    \n",
    "        #tokenizer\n",
    "        X_tmp0=tokenizer.texts_to_sequences(X_tmp0)\n",
    "        X_tmp0= pad_sequences(X_tmp0, maxlen = max_length, padding = 'post')\n",
    "        print(X_tmp0.shape)\n",
    "        \n",
    "        c=model.evaluate(X_tmp0,np.array(y_test1))[1]\n",
    "        diffs[i]=(1-c) # 1 - accuracy = DeltaA\n",
    "    \n",
    "        clear_output(wait=True)\n",
    "        \n",
    "        print(\" iteration \", i, \" : perturbated res = \", c , \"saved value = \" , diffs[i])\n",
    "        print(\"Debug print\")\n",
    "        print(X_eva_test[0][10:20]) \n",
    "        print(X_tmp0[0][10:20])\n",
    "        print(X_tmp0.shape)\n",
    "\n",
    "    np.savetxt(\"important_locs.txt\", diffs)    \n",
    "    plt.scatter(range(0,len(diffs)), diffs)\"\"\" "
   ]
  },
  {
   "cell_type": "code",
   "execution_count": 6,
   "metadata": {},
   "outputs": [
    {
     "name": "stdout",
     "output_type": "stream",
     "text": [
      "Finished 10000 entries\n",
      "Finished 20000 entries\n",
      "Finished 30000 entries\n",
      "Finished 40000 entries\n",
      "Finished 50000 entries\n",
      "Finished 60000 entries\n",
      "Finished 70000 entries\n"
     ]
    }
   ],
   "source": [
    "intr_file = '../data/hg19_intr_clean.fa'\n",
    "depl_file = '../data/hg19_depl_clean.fa'\n",
    "\n",
    "e = 0\n",
    "intr_seqs = []\n",
    "depl_seqs = []\n",
    "for intr, depl in zip(SeqIO.parse(intr_file, 'fasta'), SeqIO.parse(depl_file, 'fasta')):\n",
    "    \n",
    "    step = 200; jump = 1; a = 0; b = step; n_jumps = 5\n",
    "    for j in range(n_jumps):\n",
    "        s_intr = str(intr.seq)[a:b]\n",
    "        s_depl = str(depl.seq)[a:b]\n",
    "        intr_seqs.append(s_intr)\n",
    "        depl_seqs.append(s_depl)\n",
    "        a = a + jump\n",
    "        b = a + step\n",
    "    \n",
    "    e = e + 1\n",
    "    if e%10000 == 0:\n",
    "        print('Finished ' + str(e) + ' entries')\n",
    "        \n",
    "def getKmers(sequence, size):\n",
    "    return [sequence[x:x+size].upper() for x in range(len(sequence) - size + 1)]\n",
    "    \n",
    "kmer = 10\n",
    "\n",
    "intr_texts = [getKmers(i, kmer) for i in intr_seqs]\n",
    "depl_texts = [getKmers(i, kmer) for i in depl_seqs]"
   ]
  },
  {
   "cell_type": "code",
   "execution_count": 7,
   "metadata": {
    "scrolled": true
   },
   "outputs": [
    {
     "data": {
      "image/png": "[encoded data removed]",
      "text/plain": [
       "<Figure size 432x288 with 1 Axes>"
      ]
     },
     "metadata": {
      "needs_background": "light"
     },
     "output_type": "display_data"
    }
   ],
   "source": [
    "import matplotlib.pyplot as plt\n",
    "import numpy as np\n",
    "from collections import Counter\n",
    "from IPython.display import clear_output\n",
    "\n",
    "intr_texts = np.array(intr_texts)\n",
    "depl_texts = np.array(depl_texts) \n",
    "\n",
    "freqs_intr = []\n",
    "\n",
    "datao = np.loadtxt(\"important_locs.txt\")\n",
    "datao = np.convolve(datao,[1,2,3,4,5,6,7,8,9,10,9,8,7,6,5,4,3,2,1], \"same\")\n",
    "\n",
    "# second derivative for C prescription\n",
    "datao2 = (datao[2:]-2*datao[1:-1]+datao[:-2])/sum(abs(datao))\n",
    "datao2 = np.array(np.convolve(datao2,[1,2,3,4,5,6,5,4,3,2,1], \"same\"))\n",
    "\n",
    "datao = datao-min(datao)\n",
    "\n",
    "#### C ####\n",
    "datao2[datao2>0] = 0\n",
    "datao2[datao2<0] = 1\n",
    "datao2 = np.concatenate((np.array([0.0,0.0]), datao2.astype(int)))\n",
    "###########\n",
    "\n",
    "plt.plot(range(len(datao)-2), (datao[2:]), label=\"all\")\n",
    "plt.legend()\n",
    "plt.show()"
   ]
  },
  {
   "cell_type": "code",
   "execution_count": 8,
   "metadata": {
    "scrolled": true
   },
   "outputs": [
    {
     "name": "stdout",
     "output_type": "stream",
     "text": [
      "191\n"
     ]
    }
   ],
   "source": [
    "print(intr_texts.shape[1])"
   ]
  },
  {
   "cell_type": "code",
   "execution_count": 10,
   "metadata": {},
   "outputs": [
    {
     "name": "stdout",
     "output_type": "stream",
     "text": [
      "190\n"
     ]
    }
   ],
   "source": [
    "#### A ####\n",
    "mydicti=Counter()\n",
    "for i in range(intr_texts.shape[1]): # <--- non funziona perché intr_texts ha solo la shape[0]\n",
    "    counts = Counter(intr_texts[:,i])\n",
    "    for k in counts.keys():\n",
    "        counts[k]*=datao[i]\n",
    "    mydicti+=counts\n",
    "\n",
    "#mydictd=Counter()    \n",
    "for i in range(depl_texts.shape[1]):\n",
    "    clear_output(wait=True)\n",
    "    print(i)\n",
    "    counts = Counter(depl_texts[:,i])\n",
    "    for k in counts.keys():\n",
    "        counts[k]*=datao[i]\n",
    "    mydicti+=counts"
   ]
  },
  {
   "cell_type": "code",
   "execution_count": 11,
   "metadata": {},
   "outputs": [
    {
     "name": "stdout",
     "output_type": "stream",
     "text": [
      "['TTTTTTTTTT' 'AAAAAAAAAA' 'TGTGTGTGTG' 'GTGTGTGTGT' 'CACACACACA'\n",
      " 'ACACACACAC' 'TGTAATCCCA' 'CCTGTAATCC' 'CTGTAATCCC' 'TAATCCCAGC'\n",
      " 'GTAATCCCAG' 'CTTTTTTTTT' 'ATATATATAT' 'TATATATATA' 'CTCAGCCTCC'\n",
      " 'CCTCAGCCTC' 'CCCAGGCTGG' 'TTTGGGAGGC' 'ACTTTGGGAG' 'CACTTTGGGA'\n",
      " 'GGAGGCTGAG' 'GCCTGTAATC' 'TGGGATTACA' 'CTTTGGGAGG' 'GAGGCTGAGG'\n",
      " 'GCTGGGATTA' 'TTTTTTTTTG' 'GGATTACAGG' 'CCAGGCTGGA' 'GGGATTACAG'\n",
      " 'AGGCTGGAGT' 'AATCCCAGCA' 'CAGGCTGGAG' 'CTGGGATTAC' 'AGCACTTTGG'\n",
      " 'CAGCACTTTG' 'GCTCACTGCA' 'GCACTTTGGG' 'ATCCCAGCAC' 'TCCCAGCACT'\n",
      " 'CCAGCACTTT' 'AAAATACAAA' 'CCCAGCACTT' 'GGCTGGAGTG' 'CTGGAGTGCA'\n",
      " 'AAATACAAAA' 'GCCTCAGCCT' 'GCTGGAGTGC' 'AAAAAAAAAG' 'TCAGCCTCCC']\n"
     ]
    }
   ],
   "source": [
    "print(np.array(mydicti.most_common(50))[:,0])"
   ]
  },
  {
   "cell_type": "code",
   "execution_count": 12,
   "metadata": {},
   "outputs": [
    {
     "name": "stdout",
     "output_type": "stream",
     "text": [
      "190\n"
     ]
    }
   ],
   "source": [
    "#### C ####\n",
    "datao1=datao*datao2\n",
    "datao1=datao1/sum(datao1)\n",
    "\n",
    "mydicti=Counter()\n",
    "for i in range(intr_texts.shape[1]):\n",
    "    counts = Counter(intr_texts[:,i])\n",
    "    for k in counts.keys():\n",
    "        counts[k]*=datao1[i]\n",
    "    mydicti+=counts\n",
    "\n",
    "for i in range(depl_texts.shape[1]):\n",
    "    clear_output(wait=True)\n",
    "    print(i)\n",
    "    counts = Counter(depl_texts[:,i])\n",
    "    for k in counts.keys():\n",
    "        counts[k]*=datao1[i]\n",
    "    mydicti+=counts"
   ]
  },
  {
   "cell_type": "code",
   "execution_count": 13,
   "metadata": {},
   "outputs": [
    {
     "name": "stdout",
     "output_type": "stream",
     "text": [
      "['TTTTTTTTTT' 'AAAAAAAAAA' 'TGTGTGTGTG' 'GTGTGTGTGT' 'CACACACACA'\n",
      " 'ACACACACAC' 'CCTGTAATCC' 'TGTAATCCCA' 'CTGTAATCCC' 'TAATCCCAGC'\n",
      " 'GTAATCCCAG' 'CTTTTTTTTT' 'ATATATATAT' 'TATATATATA' 'CTCAGCCTCC'\n",
      " 'CCTCAGCCTC' 'GCCTGTAATC' 'CCCAGGCTGG' 'TTTGGGAGGC' 'TGGGATTACA'\n",
      " 'ACTTTGGGAG' 'CACTTTGGGA' 'GCTGGGATTA' 'CTTTGGGAGG' 'GGGATTACAG'\n",
      " 'GGAGGCTGAG' 'TTTTTTTTTG' 'GGATTACAGG' 'AATCCCAGCA' 'CTGGGATTAC'\n",
      " 'GAGGCTGAGG' 'GCTCACTGCA' 'AGCACTTTGG' 'CCAGGCTGGA' 'GCACTTTGGG'\n",
      " 'CAGCACTTTG' 'ATCCCAGCAC' 'AGGCTGGAGT' 'AAAATACAAA' 'CAGGCTGGAG'\n",
      " 'TCCCAGCACT' 'AAATACAAAA' 'GCCTCAGCCT' 'CCAGCACTTT' 'CCCAGCACTT'\n",
      " 'AAAAATACAA' 'AAAAAAAAAG' 'TCAGCCTCCC' 'CTGGAGTGCA' 'GGCTGGAGTG']\n"
     ]
    }
   ],
   "source": [
    "print(np.array(mydicti.most_common(50))[:,0])"
   ]
  },
  {
   "cell_type": "code",
   "execution_count": 14,
   "metadata": {},
   "outputs": [
    {
     "name": "stdout",
     "output_type": "stream",
     "text": [
      "190\n"
     ]
    }
   ],
   "source": [
    "#### B ####\n",
    "mydicti=Counter()\n",
    "for i in range(intr_texts.shape[1]):\n",
    "    counts = Counter(intr_texts[:,i])\n",
    "    for k in counts.keys():\n",
    "        counts[k]*=1\n",
    "    mydicti+=counts\n",
    "\n",
    "for i in range(depl_texts.shape[1]):\n",
    "    clear_output(wait=True)\n",
    "    print(i)\n",
    "    counts = Counter(depl_texts[:,i])\n",
    "    for k in counts.keys():\n",
    "        counts[k]*=1\n",
    "    mydicti+=counts"
   ]
  },
  {
   "cell_type": "code",
   "execution_count": 15,
   "metadata": {},
   "outputs": [
    {
     "name": "stdout",
     "output_type": "stream",
     "text": [
      "['TTTTTTTTTT' 'AAAAAAAAAA' 'TGTGTGTGTG' 'GTGTGTGTGT' 'CACACACACA'\n",
      " 'ACACACACAC' 'TGTAATCCCA' 'CCTGTAATCC' 'CTGTAATCCC' 'TAATCCCAGC'\n",
      " 'GTAATCCCAG' 'CTTTTTTTTT' 'ATATATATAT' 'TATATATATA' 'CTCAGCCTCC'\n",
      " 'CCTCAGCCTC' 'CCCAGGCTGG' 'GGAGGCTGAG' 'TTTGGGAGGC' 'TGGGATTACA'\n",
      " 'CACTTTGGGA' 'ACTTTGGGAG' 'GAGGCTGAGG' 'GCCTGTAATC' 'CTTTGGGAGG'\n",
      " 'TTTTTTTTTG' 'GGATTACAGG' 'GGGATTACAG' 'GCTGGGATTA' 'CCAGGCTGGA'\n",
      " 'AATCCCAGCA' 'CTGGGATTAC' 'AGGCTGGAGT' 'CAGGCTGGAG' 'AGCACTTTGG'\n",
      " 'CAGCACTTTG' 'GCACTTTGGG' 'ATCCCAGCAC' 'TCCCAGCACT' 'CCAGCACTTT'\n",
      " 'GCTCACTGCA' 'CCCAGCACTT' 'GGCTGGAGTG' 'CTGGAGTGCA' 'AAAATACAAA'\n",
      " 'AAAAAAAAAG' 'GCTGGAGTGC' 'AAATACAAAA' 'GCCTCAGCCT' 'TTTTTTGAGA']\n"
     ]
    }
   ],
   "source": [
    "print(np.array(mydicti.most_common(50))[:,0])"
   ]
  },
  {
   "cell_type": "code",
   "execution_count": 16,
   "metadata": {},
   "outputs": [
    {
     "name": "stdout",
     "output_type": "stream",
     "text": [
      "141\n"
     ]
    }
   ],
   "source": [
    "#### D #### \n",
    "maxpos=[]\n",
    "maxdict=Counter() \n",
    "\n",
    "for i in range(len(datao)-1):\n",
    "    if(datao[i]>datao[i-1] and datao[i]>datao[i+1]):\n",
    "        maxpos.append(i)\n",
    "\n",
    "for i in maxpos:\n",
    "    counts = Counter(intr_texts[:,i])\n",
    "    for k in counts.keys():\n",
    "        counts[k]*=1\n",
    "    maxdict+=counts\n",
    "     \n",
    "for i in maxpos:\n",
    "    clear_output(wait=True)\n",
    "    print(i)\n",
    "    counts = Counter(depl_texts[:,i])\n",
    "    for k in counts.keys():\n",
    "        counts[k]*=1\n",
    "    maxdict+=counts"
   ]
  },
  {
   "cell_type": "code",
   "execution_count": 17,
   "metadata": {},
   "outputs": [
    {
     "name": "stdout",
     "output_type": "stream",
     "text": [
      "[['TTTTTTTTTT' '5288']\n",
      " ['AAAAAAAAAA' '3504']\n",
      " ['GTGTGTGTGT' '1212']\n",
      " ['TGTGTGTGTG' '1200']\n",
      " ['ACACACACAC' '1162']\n",
      " ['CACACACACA' '1151']\n",
      " ['TGTAATCCCA' '738']\n",
      " ['TAATCCCAGC' '708']\n",
      " ['CCTGTAATCC' '702']\n",
      " ['GTAATCCCAG' '690']\n",
      " ['CTGTAATCCC' '681']\n",
      " ['TATATATATA' '616']\n",
      " ['ATATATATAT' '600']\n",
      " ['AATCCCAGCA' '579']\n",
      " ['CTTTTTTTTT' '571']\n",
      " ['CCCAGGCTGG' '549']\n",
      " ['GGAGGCTGAG' '545']\n",
      " ['ATCCCAGCAC' '529']\n",
      " ['GGATTACAGG' '526']\n",
      " ['GGGATTACAG' '523']\n",
      " ['GCCTGTAATC' '521']\n",
      " ['CCTCAGCCTC' '521']\n",
      " ['CTCAGCCTCC' '521']\n",
      " ['GAGGCTGAGG' '520']\n",
      " ['TCCCAGCACT' '519']\n",
      " ['TTTGGGAGGC' '516']\n",
      " ['TGGGATTACA' '510']\n",
      " ['CACTTTGGGA' '510']\n",
      " ['ACTTTGGGAG' '510']\n",
      " ['CTTTGGGAGG' '509']\n",
      " ['CCAGGCTGGA' '494']\n",
      " ['GCACTTTGGG' '486']\n",
      " ['CAGGCTGGAG' '485']\n",
      " ['CTGGGATTAC' '482']\n",
      " ['AGCACTTTGG' '480']\n",
      " ['CCCAGCACTT' '475']\n",
      " ['GCTGGGATTA' '474']\n",
      " ['AGGCTGGAGT' '466']\n",
      " ['CAGCACTTTG' '438']\n",
      " ['TTTTTTTTTG' '433']\n",
      " ['CCAGCACTTT' '431']\n",
      " ['TCAGCCTCCC' '428']\n",
      " ['GGCTGGAGTG' '426']\n",
      " ['GCTCACTGCA' '424']\n",
      " ['AGTGCAGTGG' '423']\n",
      " ['AGGCTGAGGC' '415']\n",
      " ['GGGAGGCTGA' '412']\n",
      " ['TTTTCTTTTT' '407']\n",
      " ['TTTTTTGAGA' '403']\n",
      " ['CCAGCCTGGG' '401']]\n"
     ]
    }
   ],
   "source": [
    "print(np.array(maxdict.most_common(50)))"
   ]
  },
  {
   "cell_type": "code",
   "execution_count": null,
   "metadata": {},
   "outputs": [],
   "source": []
  }
 ],
 "metadata": {
  "kernelspec": {
   "display_name": "Python 3",
   "language": "python",
   "name": "python3"
  },
  "language_info": {
   "codemirror_mode": {
    "name": "ipython",
    "version": 3
   },
   "file_extension": ".py",
   "mimetype": "text/x-python",
   "name": "python",
   "nbconvert_exporter": "python",
   "pygments_lexer": "ipython3",
   "version": "3.7.6"
  }
 },
 "nbformat": 4,
 "nbformat_minor": 4
}
